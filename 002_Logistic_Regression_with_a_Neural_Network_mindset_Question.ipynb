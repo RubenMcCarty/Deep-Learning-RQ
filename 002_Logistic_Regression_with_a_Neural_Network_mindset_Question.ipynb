{
  "cells": [
    {
      "cell_type": "markdown",
      "metadata": {
        "id": "view-in-github",
        "colab_type": "text"
      },
      "source": [
        "<a href=\"https://colab.research.google.com/github/RubenMcCarty/Deep-Learning-RQ/blob/main/002_Logistic_Regression_with_a_Neural_Network_mindset_Question.ipynb\" target=\"_parent\"><img src=\"https://colab.research.google.com/assets/colab-badge.svg\" alt=\"Open In Colab\"/></a>"
      ]
    },
    {
      "cell_type": "markdown",
      "metadata": {
        "id": "abAdSiJgyfzd"
      },
      "source": [
        "# Logistic Regression with a Neural Network mindset\n",
        "# [Ruben Quispe](https://www.linkedin.com/in/ruben-quispe-l/)\n",
        "\n",
        "¡Bienvenido a su tarea de programación! Construirás un clasificador de regresión logística para reconocer gatos. Esta tarea lo guiará a través de cómo hacer esto con una mentalidad de red neuronal y también perfeccionará sus intuiciones sobre el aprendizaje profundo.\n",
        "\n",
        "**Instrucciones:**\n",
        "- No utilice bucles (for/while) en su código, a menos que las instrucciones le pidan explícitamente que lo haga.\n",
        "- Usa `np.dot(X,Y)` para calcular los productos escalares.\n",
        "\n",
        "**Aprenderás a:**\n",
        "- Construir la arquitectura general de un algoritmo de aprendizaje, incluyendo:\n",
        "     - Inicializar parámetros\n",
        "     - Cálculo de la función de coste y su gradiente\n",
        "     - Usando un algoritmo de optimización (descenso de gradiente)\n",
        "- Reúna las tres funciones anteriores en una función de modelo principal, en el orden correcto.\n",
        "\n"
      ]
    },
    {
      "cell_type": "markdown",
      "metadata": {
        "id": "jAKjqqaOyfzg"
      },
      "source": [
        "## Table of Contents\n",
        "- [1 - Packages](#1)\n",
        "- [2 - Overview of the Problem set](#2)\n",
        "    - [Exercise 1](#ex-1)\n",
        "    - [Exercise 2](#ex-2)\n",
        "- [3 - General Architecture of the learning algorithm](#3)\n",
        "- [4 - Building the parts of our algorithm](#4)\n",
        "    - [4.1 - Helper functions](#4-1)\n",
        "        - [Exercise 3 - sigmoid](#ex-3)\n",
        "    - [4.2 - Initializing parameters](#4-2)\n",
        "        - [Exercise 4 - initialize_with_zeros](#ex-4)\n",
        "    - [4.3 - Forward and Backward propagation](#4-3)\n",
        "        - [Exercise 5 - propagate](#ex-5)\n",
        "    - [4.4 - Optimization](#4-4)\n",
        "        - [Exercise 6 - optimize](#ex-6)\n",
        "        - [Exercise 7 - predict](#ex-7)\n",
        "- [5 - Merge all functions into a model](#5)\n",
        "    - [Exercise 8 - model](#ex-8)\n",
        "- [6 - Further analysis (optional/ungraded exercise)](#6)\n",
        "- [7 - Test with your own image (optional/ungraded exercise)](#7)"
      ]
    },
    {
      "cell_type": "markdown",
      "metadata": {
        "id": "YUCs02_6yfzh"
      },
      "source": [
        "<a name='1'></a>\n",
        "## 1 - Packages ##\n",
        "\n",
        "First, let's run the cell below to import all the packages that you will need during this assignment. \n",
        "- [numpy](https://numpy.org/doc/1.20/) is the fundamental package for scientific computing with Python.\n",
        "- [h5py](http://www.h5py.org) is a common package to interact with a dataset that is stored on an H5 file.\n",
        "- [matplotlib](http://matplotlib.org) is a famous library to plot graphs in Python.\n",
        "- [PIL](https://pillow.readthedocs.io/en/stable/) and [scipy](https://www.scipy.org/) are used here to test your model with your own picture at the end."
      ]
    },
    {
      "cell_type": "code",
      "source": [
        "import numpy as np\n",
        "import copy\n",
        "import matplotlib.pyplot as plt\n",
        "import h5py\n",
        "import scipy\n",
        "from PIL import Image\n",
        "from scipy import ndimage\n",
        "from lr_utils import load_dataset\n",
        "from public_tests import *\n",
        "\n",
        "%matplotlib inline\n",
        "%load_ext autoreload\n",
        "%autoreload 2"
      ],
      "metadata": {
        "id": "u097O1o31w2j"
      },
      "execution_count": null,
      "outputs": []
    },
    {
      "cell_type": "markdown",
      "metadata": {
        "id": "6dZY2nmryfzi"
      },
      "source": [
        "<a name='2'></a>\n",
        "## 2 - Overview of the Problem set ##\n",
        "\n",
        "**Enunciado del problema**: Se le proporciona un conjunto de datos (\"data.h5\") que contiene:\n",
        "\n",
        "     - un conjunto de entrenamiento de imágenes m_train etiquetadas como cat (y=1) o non-cat (y=0)\n",
        "     - un conjunto de prueba de imágenes m_test etiquetadas como gato o no gato\n",
        "     - cada imagen tiene forma (num_px, num_px, 3) donde 3 es para los 3 canales (RGB). Así, cada imagen es cuadrada (height = num_px) y (width= num_px).\n",
        "\n",
        "Construirá un algoritmo simple de reconocimiento de imágenes que puede clasificar correctamente las imágenes como gatos o no gatos.\n",
        "\n",
        "Vamos a familiarizarnos más con el conjunto de datos. Cargue los datos ejecutando el siguiente código."
      ]
    },
    {
      "cell_type": "code",
      "source": [
        "# Loading the data (cat/non-cat)\n",
        "train_set_x_orig, train_set_y, test_set_x_orig, test_set_y, classes = load_dataset()"
      ],
      "metadata": {
        "id": "JxICa5U01qXP"
      },
      "execution_count": null,
      "outputs": []
    },
    {
      "cell_type": "markdown",
      "metadata": {
        "id": "GkF1ZX1Vyfzj"
      },
      "source": [
        "Agregamos \"_orig\" al final de los conjuntos de datos de imagen (entrenar y probar) porque los vamos a preprocesar. Después del procesamiento previo, terminaremos con train_set_x y test_set_x (las etiquetas train_set_y y test_set_y no necesitan ningún procesamiento previo).\n",
        "\n",
        "Cada línea de su train_set_x_orig y test_set_x_orig es una matriz que representa una imagen. Puede visualizar un ejemplo ejecutando el siguiente código. Siéntase libre también de cambiar el valor del `índice` y vuelva a ejecutar para ver otras imágenes."
      ]
    },
    {
      "cell_type": "code",
      "source": [
        "# Example of a picture\n",
        "index = 25\n",
        "plt.imshow(train_set_x_orig[index])\n",
        "print (\"y = \" + str(train_set_y[:, index]) + \", it's a '\" + classes[np.squeeze(train_set_y[:, index])].decode(\"utf-8\") +  \"' picture.\")"
      ],
      "metadata": {
        "id": "f9z9Noc81K0I"
      },
      "execution_count": null,
      "outputs": []
    },
    {
      "cell_type": "markdown",
      "metadata": {
        "id": "qDFZn8s6yfzj"
      },
      "source": [
        "Muchos errores de software en el deep learning provienen de tener dimensiones de matriz/vector que no encajan. Si puede mantener las dimensiones de su matriz/vector correctas, contribuirá en gran medida a eliminar muchos errores.\n",
        "\n",
        "<a name='ex-1'></a>\n",
        "### Exercise 1\n",
        "Find the values for:\n",
        "\n",
        "    - m_train (number of training examples)\n",
        "    - m_test (number of test examples)\n",
        "    - num_px (= height = width of a training image)\n",
        "\n",
        "Recuerda que `train_set_x_orig` es una matriz numérica de forma (m_train, num_px, num_px, 3). Por ejemplo, puede acceder a `m_train` escribiendo `train_set_x_orig.shape[0]`."
      ]
    },
    {
      "cell_type": "code",
      "execution_count": null,
      "metadata": {
        "deletable": false,
        "nbgrader": {
          "cell_type": "code",
          "checksum": "921fe679a632ec7ec9963069fa405725",
          "grade": false,
          "grade_id": "cell-c4e7e9c1f174eb83",
          "locked": false,
          "schema_version": 3,
          "solution": true,
          "task": false
        },
        "id": "QbSl4vCmyfzk",
        "outputId": "b3f16e22-a6aa-403c-e8e3-13002657486e"
      },
      "outputs": [
        {
          "name": "stdout",
          "output_type": "stream",
          "text": [
            "Number of training examples: m_train = 209\n",
            "Number of testing examples: m_test = 50\n",
            "Height/Width of each image: num_px = 64\n",
            "Each image is of size: (64, 64, 3)\n",
            "train_set_x shape: (209, 64, 64, 3)\n",
            "train_set_y shape: (1, 209)\n",
            "test_set_x shape: (50, 64, 64, 3)\n",
            "test_set_y shape: (1, 50)\n"
          ]
        }
      ],
      "source": [
        "# YOUR CODE STARTS HERE\n",
        "#(≈ 3 lines of code)\n",
        "m_train = \n",
        "m_test = \n",
        "num_px = \n",
        "\n",
        "\n",
        "# YOUR CODE ENDS HERE\n",
        "\n",
        "print (\"Number of training examples: m_train = \" + str(m_train))\n",
        "print (\"Number of testing examples: m_test = \" + str(m_test))\n",
        "print (\"Height/Width of each image: num_px = \" + str(num_px))\n",
        "print (\"Each image is of size: (\" + str(num_px) + \", \" + str(num_px) + \", 3)\")\n",
        "print (\"train_set_x shape: \" + str(train_set_x_orig.shape))\n",
        "print (\"train_set_y shape: \" + str(train_set_y.shape))\n",
        "print (\"test_set_x shape: \" + str(test_set_x_orig.shape))\n",
        "print (\"test_set_y shape: \" + str(test_set_y.shape))"
      ]
    },
    {
      "cell_type": "markdown",
      "metadata": {
        "id": "sUyQ5GtJyfzk"
      },
      "source": [
        "**Expected Output for m_train, m_test and num_px**: \n",
        "<table style=\"width:15%\">\n",
        "  <tr>\n",
        "    <td> m_train </td>\n",
        "    <td> 209 </td> \n",
        "  </tr>\n",
        "  \n",
        "  <tr>\n",
        "    <td>m_test</td>\n",
        "    <td> 50 </td> \n",
        "  </tr>\n",
        "  \n",
        "  <tr>\n",
        "    <td>num_px</td>\n",
        "    <td> 64 </td> \n",
        "  </tr>\n",
        "  \n",
        "</table>\n"
      ]
    },
    {
      "cell_type": "markdown",
      "metadata": {
        "id": "CqlU5O-syfzk"
      },
      "source": [
        "Para mayor comodidad, ahora debe remodelar imágenes de forma (num_px, num_px, 3) en una matriz numérica de forma (num_px $*$ num_px $*$ 3, 1). Después de esto, nuestro conjunto de datos de entrenamiento (y prueba) es una matriz numérica donde cada columna representa una imagen aplanada. Debe haber columnas m_train (respectivamente m_test).\n",
        "\n",
        "<a nombre='ex-2'></a>\n",
        "### Ejercicio 2\n",
        "Modifique los conjuntos de datos de entrenamiento y prueba para que las imágenes de tamaño (num_px, num_px, 3) se aplanen en vectores únicos de forma (num\\_px $*$ num\\_px $*$ 3, 1).\n",
        "\n",
        "Un truco cuando quieres aplanar una matriz X de forma (a,b,c,d) a una matriz X_flatten de forma (b$*$c$*$d, a) es usar:\n",
        "```pitón\n",
        "X_flatten = X.reshape(X.shape[0], -1).T # X.T es la transposición de X\n",
        "```"
      ]
    },
    {
      "cell_type": "code",
      "execution_count": null,
      "metadata": {
        "deletable": false,
        "nbgrader": {
          "cell_type": "code",
          "checksum": "5a2aa62bdd8c01450111b758ef159aec",
          "grade": false,
          "grade_id": "cell-0f43921062c34e50",
          "locked": false,
          "schema_version": 3,
          "solution": true,
          "task": false
        },
        "id": "MAzALaakyfzk",
        "outputId": "9652c327-22c2-42b7-bdb3-46d161136990"
      },
      "outputs": [
        {
          "name": "stdout",
          "output_type": "stream",
          "text": [
            "train_set_x_flatten shape: (12288, 209)\n",
            "train_set_y shape: (1, 209)\n",
            "test_set_x_flatten shape: (12288, 50)\n",
            "test_set_y shape: (1, 50)\n"
          ]
        }
      ],
      "source": [
        "# YOUR CODE STARTS HERE\n",
        "# Reshape the training and test examples\n",
        "#(≈ 2 lines of code)\n",
        "train_set_x_flatten = \n",
        "test_set_x_flatten = \n",
        "\n",
        "\n",
        "# YOUR CODE ENDS HERE\n",
        "\n",
        "# Check that the first 10 pixels of the second image are in the correct place\n",
        "#assert np.alltrue(train_set_x_flatten[0:10, 1] == [196, 192, 190, 193, 186, 182, 188, 179, 174, 213]), \"Wrong solution. Use (X.shape[0], -1).T.\"\n",
        "#assert np.alltrue(test_set_x_flatten[0:10, 1] == [115, 110, 111, 137, 129, 129, 155, 146, 145, 159]), \"Wrong solution. Use (X.shape[0], -1).T.\"\n",
        "\n",
        "print (\"train_set_x_flatten shape: \" + str(train_set_x_flatten.shape))\n",
        "print (\"train_set_y shape: \" + str(train_set_y.shape))\n",
        "print (\"test_set_x_flatten shape: \" + str(test_set_x_flatten.shape))\n",
        "print (\"test_set_y shape: \" + str(test_set_y.shape))"
      ]
    },
    {
      "cell_type": "markdown",
      "metadata": {
        "id": "vTlmRqZCyfzl"
      },
      "source": [
        "**Expected Output**: \n",
        "\n",
        "<table style=\"width:35%\">\n",
        "  <tr>\n",
        "    <td>train_set_x_flatten shape</td>\n",
        "    <td> (12288, 209)</td> \n",
        "  </tr>\n",
        "  <tr>\n",
        "    <td>train_set_y shape</td>\n",
        "    <td>(1, 209)</td> \n",
        "  </tr>\n",
        "  <tr>\n",
        "    <td>test_set_x_flatten shape</td>\n",
        "    <td>(12288, 50)</td> \n",
        "  </tr>\n",
        "  <tr>\n",
        "    <td>test_set_y shape</td>\n",
        "    <td>(1, 50)</td> \n",
        "  </tr>\n",
        "</table>"
      ]
    },
    {
      "cell_type": "markdown",
      "metadata": {
        "id": "crHzjFi8yfzl"
      },
      "source": [
        "Para representar imágenes en color, se deben especificar los canales rojo, verde y azul (RGB) para cada píxel, por lo que el valor del píxel es en realidad un vector de tres números que van de 0 a 255.\n",
        "\n",
        "Un paso de preprocesamiento común en el aprendizaje automático es centrar y estandarizar su conjunto de datos, lo que significa que resta la media de la matriz numpy completa de cada ejemplo y luego divide cada ejemplo por la desviación estándar de la matriz numpy completa. Pero para conjuntos de datos de imágenes, es más simple y más conveniente y funciona casi tan bien como dividir cada fila del conjunto de datos por 255 (el valor máximo de un canal de píxeles).\n",
        "\n",
        "<!-- Durante el entrenamiento de su modelo, multiplicará los pesos y agregará sesgos a algunas entradas iniciales para observar las activaciones de las neuronas. Luego retropropaga con los gradientes para entrenar el modelo. Pero es extremadamente importante que cada función tenga un rango similar para que nuestros gradientes no exploten. Lo verás con más detalle más adelante en las conferencias. !-->\n",
        "\n",
        "Estandaricemos nuestro conjunto de datos."
      ]
    },
    {
      "cell_type": "code",
      "execution_count": null,
      "metadata": {
        "id": "n-FXOc7Myfzl"
      },
      "outputs": [],
      "source": [
        "train_set_x = train_set_x_flatten / 255.\n",
        "test_set_x = test_set_x_flatten / 255."
      ]
    },
    {
      "cell_type": "markdown",
      "metadata": {
        "id": "uLE_Ln0eyfzl"
      },
      "source": [
        "<font color='azul'>\n",
        "    \n",
        "    \n",
        "**Lo que necesitas recordar:**\n",
        "\n",
        "Los pasos comunes para preprocesar un nuevo conjunto de datos son:\n",
        "- Averiguar las dimensiones y formas del problema (m_train, m_test, num_px, ...)\n",
        "- Modifique los conjuntos de datos de modo que cada ejemplo sea ahora un vector de tamaño (num_px \\* num_px \\* 3, 1)\n",
        "- \"Estandarizar\" los datos"
      ]
    },
    {
      "cell_type": "markdown",
      "metadata": {
        "id": "-SXlsQXVyfzl"
      },
      "source": [
        "<a name='3'></a>\n",
        "## 3 - General Architecture of the learning algorithm ##\n",
        "\n",
        "Es hora de diseñar un algoritmo simple para distinguir las imágenes de gatos de las imágenes que no son de gatos.\n",
        "\n",
        "Construirá una regresión logística, utilizando una mentalidad de red neuronal. La siguiente figura explica por qué **La regresión logística es en realidad una red neuronal muy simple.**\n",
        "\n",
        "![image.png](data:image/png;base64,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)\n",
        "\n",
        "**Mathematical expression of the algorithm**:\n",
        "\n",
        "For one example $x^{(i)}$:\n",
        "$$z^{(i)} = w^T x^{(i)} + b \\tag{1}$$\n",
        "$$\\hat{y}^{(i)} = a^{(i)} = sigmoid(z^{(i)})\\tag{2}$$ \n",
        "$$ \\mathcal{L}(a^{(i)}, y^{(i)}) =  - y^{(i)}  \\log(a^{(i)}) - (1-y^{(i)} )  \\log(1-a^{(i)})\\tag{3}$$\n",
        "\n",
        "The cost is then computed by summing over all training examples:\n",
        "$$ J = \\frac{1}{m} \\sum_{i=1}^m \\mathcal{L}(a^{(i)}, y^{(i)})\\tag{6}$$\n",
        "\n",
        "**Pasos clave**:\n",
        "En este ejercicio, llevará a cabo los siguientes pasos:\n",
        "\n",
        "     - Inicializar los parámetros del modelo\n",
        "     - Aprenda los parámetros para el modelo minimizando el costo\n",
        "     - Use los parámetros aprendidos para hacer predicciones (en el conjunto de prueba)\n",
        "     - Analizar los resultados y concluir."
      ]
    },
    {
      "cell_type": "markdown",
      "metadata": {
        "id": "DUpUcopKyfzl"
      },
      "source": [
        "<a name='4'></a>\n",
        "## 4 - Building the parts of our algorithm ## \n",
        "\n",
        "The main steps for building a Neural Network are:\n",
        "1. Define the model structure (such as number of input features) \n",
        "2. Initialize the model's parameters\n",
        "3. Loop:\n",
        "    - Calculate current loss (forward propagation)\n",
        "    - Calculate current gradient (backward propagation)\n",
        "    - Update parameters (gradient descent)\n",
        "\n",
        "You often build 1-3 separately and integrate them into one function we call `model()`.\n",
        "\n",
        "<a name='4-1'></a>\n",
        "### 4.1 - Helper functions\n",
        "\n",
        "<a name='ex-3'></a>\n",
        "### Exercise 3 - sigmoid\n",
        "Using your code from \"Python Basics\", implement `sigmoid()`. As you've seen in the figure above, you need to compute $sigmoid(z) = \\frac{1}{1 + e^{-z}}$ for $z = w^T x + b$ to make predictions. Use np.exp()."
      ]
    },
    {
      "cell_type": "code",
      "execution_count": null,
      "metadata": {
        "deletable": false,
        "nbgrader": {
          "cell_type": "code",
          "checksum": "239ab1cf1028b721fd14f31b8103c40d",
          "grade": false,
          "grade_id": "cell-520521c430352f3b",
          "locked": false,
          "schema_version": 3,
          "solution": true,
          "task": false
        },
        "id": "hbnOGBGAyfzm"
      },
      "outputs": [],
      "source": [
        "# GRADED FUNCTION: sigmoid\n",
        "\n",
        "def sigmoid(z):\n",
        "    \"\"\"\n",
        "    Compute the sigmoid of z\n",
        "\n",
        "    Arguments:\n",
        "    z -- A scalar or numpy array of any size.\n",
        "\n",
        "    Return:\n",
        "    s -- sigmoid(z)\n",
        "    \"\"\"\n",
        "    # YOUR CODE STARTS HERE\n",
        "\n",
        "    #(≈ 1 line of code)\n",
        "    s =\n",
        "    \n",
        "    \n",
        "    \n",
        "    # YOUR CODE ENDS HERE\n",
        "    \n",
        "    return s"
      ]
    },
    {
      "cell_type": "code",
      "execution_count": null,
      "metadata": {
        "deletable": false,
        "editable": false,
        "nbgrader": {
          "cell_type": "code",
          "checksum": "0483e6820669111a9c5914d8b24bc315",
          "grade": true,
          "grade_id": "cell-30ea3151cab9c491",
          "locked": true,
          "points": 10,
          "schema_version": 3,
          "solution": false,
          "task": false
        },
        "id": "uQIJL1IZyfzm",
        "outputId": "c2ccbdb8-bdca-44d5-f2bc-0192d5bb6795"
      },
      "outputs": [
        {
          "name": "stdout",
          "output_type": "stream",
          "text": [
            "sigmoid([0, 2]) = [0.5        0.88079708]\n",
            "\u001b[92mAll tests passed!\n"
          ]
        }
      ],
      "source": [
        "print (\"sigmoid([0, 2]) = \" + str(sigmoid(np.array([0,2]))))\n",
        "\n",
        "sigmoid_test(sigmoid)"
      ]
    },
    {
      "cell_type": "code",
      "execution_count": null,
      "metadata": {
        "id": "2WjNeh6Pyfzm",
        "outputId": "dc30f958-cba3-4234-a3c3-56b65fff345d"
      },
      "outputs": [
        {
          "name": "stdout",
          "output_type": "stream",
          "text": [
            "[0.62245933 0.5        0.88079708]\n"
          ]
        }
      ],
      "source": [
        "x = np.array([0.5, 0, 2.0])\n",
        "output = sigmoid(x)\n",
        "print(output)"
      ]
    },
    {
      "cell_type": "markdown",
      "metadata": {
        "id": "XeoPixBvyfzm"
      },
      "source": [
        "<a name='4-2'></a>\n",
        "### 4.2 - Initializing parameters\n",
        "\n",
        "<a name='ex-4'></a>\n",
        "### Exercise 4 - initialize_with_zeros\n",
        "Implement parameter initialization in the cell below. You have to initialize w as a vector of zeros. If you don't know what numpy function to use, look up np.zeros() in the Numpy library's documentation."
      ]
    },
    {
      "cell_type": "code",
      "execution_count": null,
      "metadata": {
        "deletable": false,
        "nbgrader": {
          "cell_type": "code",
          "checksum": "c4a37e375a85ddab7274a33abf46bb7c",
          "grade": false,
          "grade_id": "cell-befa9335e479864e",
          "locked": false,
          "schema_version": 3,
          "solution": true,
          "task": false
        },
        "id": "O-tNPE3hyfzm"
      },
      "outputs": [],
      "source": [
        "# GRADED FUNCTION: initialize_with_zeros\n",
        "\n",
        "def initialize_with_zeros(dim):\n",
        "    \"\"\"\n",
        "    This function creates a vector of zeros of shape (dim, 1) for w and initializes b to 0.\n",
        "    \n",
        "    Argument:\n",
        "    dim -- size of the w vector we want (or number of parameters in this case)\n",
        "    \n",
        "    Returns:\n",
        "    w -- initialized vector of shape (dim, 1)\n",
        "    b -- initialized scalar (corresponds to the bias) of type float\n",
        "    \"\"\"\n",
        "    # YOUR CODE STARTS HERE\n",
        "    # (≈ 2 lines of code)\n",
        "    w = \n",
        "    b =\n",
        "    \n",
        "    \n",
        "    \n",
        "    # YOUR CODE ENDS HERE\n",
        "    assert(w.shape == (dim, 1))\n",
        "    assert(isinstance(b, float) or isinstance(b, int))\n",
        "\n",
        "    return w, b\n"
      ]
    },
    {
      "cell_type": "code",
      "execution_count": null,
      "metadata": {
        "deletable": false,
        "editable": false,
        "nbgrader": {
          "cell_type": "code",
          "checksum": "a4c13b0eafa46ca94de21b41faea8c58",
          "grade": true,
          "grade_id": "cell-a3b6699f145f3a3f",
          "locked": true,
          "points": 10,
          "schema_version": 3,
          "solution": false,
          "task": false
        },
        "id": "aBvtMkWRyfzn",
        "outputId": "ae2d4f23-35a9-4680-ab6a-0865fca9b1c2"
      },
      "outputs": [
        {
          "name": "stdout",
          "output_type": "stream",
          "text": [
            "w = [[0.]\n",
            " [0.]]\n",
            "b = 0.0\n",
            "\u001b[92mFirst test passed!\n",
            "\u001b[92mSecond test passed!\n"
          ]
        }
      ],
      "source": [
        "dim = 2\n",
        "w, b = initialize_with_zeros(dim)\n",
        "\n",
        "assert type(b) == float\n",
        "print (\"w = \" + str(w))\n",
        "print (\"b = \" + str(b))\n",
        "\n",
        "initialize_with_zeros_test_1(initialize_with_zeros)\n",
        "initialize_with_zeros_test_2(initialize_with_zeros)\n"
      ]
    },
    {
      "cell_type": "markdown",
      "metadata": {
        "id": "NTO_JPvsyfzn"
      },
      "source": [
        "<a name='4-3'></a>\n",
        "### 4.3 - Forward and Backward propagation\n",
        "\n",
        "Now that your parameters are initialized, you can do the \"forward\" and \"backward\" propagation steps for learning the parameters.\n",
        "\n",
        "<a name='ex-5'></a>\n",
        "### Exercise 5 - propagate\n",
        "Implement a function `propagate()` that computes the cost function and its gradient.\n",
        "\n",
        "**Hints**:\n",
        "\n",
        "Forward Propagation:\n",
        "- You get X\n",
        "- You compute $A = \\sigma(w^T X + b) = (a^{(1)}, a^{(2)}, ..., a^{(m-1)}, a^{(m)})$\n",
        "- You calculate the cost function: $J = -\\frac{1}{m}\\sum_{i=1}^{m}(y^{(i)}\\log(a^{(i)})+(1-y^{(i)})\\log(1-a^{(i)}))$\n",
        "\n",
        "Here are the two formulas you will be using: \n",
        "\n",
        "$$ \\frac{\\partial J}{\\partial w} = \\frac{1}{m}X(A-Y)^T\\tag{7}$$\n",
        "$$ \\frac{\\partial J}{\\partial b} = \\frac{1}{m} \\sum_{i=1}^m (a^{(i)}-y^{(i)})\\tag{8}$$"
      ]
    },
    {
      "cell_type": "code",
      "execution_count": null,
      "metadata": {
        "deletable": false,
        "nbgrader": {
          "cell_type": "code",
          "checksum": "2ff9081e51809aef5e93bc1c21dc9b7b",
          "grade": false,
          "grade_id": "cell-11af17e28077b3d3",
          "locked": false,
          "schema_version": 3,
          "solution": true,
          "task": false
        },
        "id": "lQ3oNsmFyfzn"
      },
      "outputs": [],
      "source": [
        "# GRADED FUNCTION: propagate\n",
        "\n",
        "def propagate(w, b, X, Y):\n",
        "    \"\"\"\n",
        "    Implement the cost function and its gradient for the propagation explained above\n",
        "\n",
        "    Arguments:\n",
        "    w -- weights, a numpy array of size (num_px * num_px * 3, 1)\n",
        "    b -- bias, a scalar\n",
        "    X -- data of size (num_px * num_px * 3, number of examples)\n",
        "    Y -- true \"label\" vector (containing 0 if non-cat, 1 if cat) of size (1, number of examples)\n",
        "\n",
        "    Return:\n",
        "    cost -- negative log-likelihood cost for logistic regression\n",
        "    dw -- gradient of the loss with respect to w, thus same shape as w\n",
        "    db -- gradient of the loss with respect to b, thus same shape as b\n",
        "    \n",
        "    Tips:\n",
        "    - Write your code step by step for the propagation. np.log(), np.dot()\n",
        "    \"\"\"\n",
        "    \n",
        "    m = X.shape[1]\n",
        "    # YOUR CODE STARTS HERE\n",
        "    # FORWARD PROPAGATION (FROM X TO COST)\n",
        "    #(≈ 2 lines of code)\n",
        "    # compute activation\n",
        "    A =\n",
        "    # compute cost by using np.dot to perform multiplication. \n",
        "    # And don't use loops for the sum.\n",
        "    cost =                            \n",
        "   \n",
        "    \n",
        "    \n",
        "\n",
        "    # BACKWARD PROPAGATION (TO FIND GRAD)\n",
        "    # YOUR CODE ENDS HERE\n",
        "    #(≈ 2 lines of code)\n",
        "    dw = \n",
        "    db = \n",
        "    \n",
        "    \n",
        "    # YOUR CODE ENDS HERE\n",
        "    cost = np.squeeze(np.array(cost))\n",
        "\n",
        "    \n",
        "    grads = {\"dw\": dw,\n",
        "             \"db\": db}\n",
        "    \n",
        "    return grads, cost"
      ]
    },
    {
      "cell_type": "code",
      "execution_count": null,
      "metadata": {
        "deletable": false,
        "editable": false,
        "nbgrader": {
          "cell_type": "code",
          "checksum": "b8a1a4b1ff8d70ac609d721490b4d826",
          "grade": true,
          "grade_id": "cell-d1594d75b61dd554",
          "locked": true,
          "points": 10,
          "schema_version": 3,
          "solution": false,
          "task": false
        },
        "id": "GgzWURjvyfzn",
        "outputId": "e27a995a-7b00-4b17-a99f-74d7485f01a7"
      },
      "outputs": [
        {
          "name": "stdout",
          "output_type": "stream",
          "text": [
            "dw = [[ 0.25071532]\n",
            " [-0.06604096]]\n",
            "db = -0.12500404500439652\n",
            "cost = 0.15900537707692405\n",
            "\u001b[92mAll tests passed!\n"
          ]
        }
      ],
      "source": [
        "w =  np.array([[1.], [2]])\n",
        "b = 1.5\n",
        "X = np.array([[1., -2., -1.], [3., 0.5, -3.2]])\n",
        "Y = np.array([[1, 1, 0]])\n",
        "grads, cost = propagate(w, b, X, Y)\n",
        "\n",
        "assert type(grads[\"dw\"]) == np.ndarray\n",
        "assert grads[\"dw\"].shape == (2, 1)\n",
        "assert type(grads[\"db\"]) == np.float64\n",
        "\n",
        "\n",
        "print (\"dw = \" + str(grads[\"dw\"]))\n",
        "print (\"db = \" + str(grads[\"db\"]))\n",
        "print (\"cost = \" + str(cost))\n",
        "\n",
        "propagate_test(propagate)"
      ]
    },
    {
      "cell_type": "markdown",
      "metadata": {
        "id": "GTU2QmSpyfzn"
      },
      "source": [
        "**Expected output**\n",
        "\n",
        "```\n",
        "dw = [[ 0.25071532]\n",
        " [-0.06604096]]\n",
        "db = -0.1250040450043965\n",
        "cost = 0.15900537707692405\n",
        "```"
      ]
    },
    {
      "cell_type": "markdown",
      "metadata": {
        "id": "YOIyYqb_yfzn"
      },
      "source": [
        "<a name='4-4'></a>\n",
        "### 4.4 - Optimization\n",
        "- You have initialized your parameters.\n",
        "- You are also able to compute a cost function and its gradient.\n",
        "- Now, you want to update the parameters using gradient descent.\n",
        "\n",
        "<a name='ex-6'></a>\n",
        "### Exercise 6 - optimize\n",
        "Write down the optimization function. The goal is to learn $w$ and $b$ by minimizing the cost function $J$. For a parameter $\\theta$, the update rule is $ \\theta = \\theta - \\alpha \\text{ } d\\theta$, where $\\alpha$ is the learning rate."
      ]
    },
    {
      "cell_type": "code",
      "execution_count": null,
      "metadata": {
        "deletable": false,
        "nbgrader": {
          "cell_type": "code",
          "checksum": "49d9b4c1a780bf141c8eb48e06cbb494",
          "grade": false,
          "grade_id": "cell-616d6883e807448d",
          "locked": false,
          "schema_version": 3,
          "solution": true,
          "task": false
        },
        "id": "cUHQuOFmyfzn"
      },
      "outputs": [],
      "source": [
        "# GRADED FUNCTION: optimize\n",
        "\n",
        "def optimize(w, b, X, Y, num_iterations=100, learning_rate=0.009, print_cost=False):\n",
        "    \"\"\"\n",
        "    This function optimizes w and b by running a gradient descent algorithm\n",
        "    \n",
        "    Arguments:\n",
        "    w -- weights, a numpy array of size (num_px * num_px * 3, 1)\n",
        "    b -- bias, a scalar\n",
        "    X -- data of shape (num_px * num_px * 3, number of examples)\n",
        "    Y -- true \"label\" vector (containing 0 if non-cat, 1 if cat), of shape (1, number of examples)\n",
        "    num_iterations -- number of iterations of the optimization loop\n",
        "    learning_rate -- learning rate of the gradient descent update rule\n",
        "    print_cost -- True to print the loss every 100 steps\n",
        "    \n",
        "    Returns:\n",
        "    params -- dictionary containing the weights w and bias b\n",
        "    grads -- dictionary containing the gradients of the weights and bias with respect to the cost function\n",
        "    costs -- list of all the costs computed during the optimization, this will be used to plot the learning curve.\n",
        "    \n",
        "    Tips:\n",
        "    You basically need to write down two steps and iterate through them:\n",
        "        1) Calculate the cost and the gradient for the current parameters. Use propagate().\n",
        "        2) Update the parameters using gradient descent rule for w and b.\n",
        "    \"\"\"\n",
        "    \n",
        "    w = copy.deepcopy(w)\n",
        "    b = copy.deepcopy(b)\n",
        "    \n",
        "    costs = []\n",
        "    \n",
        "    for i in range(num_iterations):\n",
        "        # YOUR CODE STARTS HERE\n",
        "        # (≈ 1 lines of code)\n",
        "        # Cost and gradient calculation \n",
        "        grads, cost = \n",
        "        \n",
        "        \n",
        "        \n",
        "        # YOUR CODE ENDS HERE\n",
        "        \n",
        "        # Retrieve derivatives from grads\n",
        "        dw = grads[\"dw\"]\n",
        "        db = grads[\"db\"]\n",
        "        \n",
        "        # update rule (≈ 2 lines of code)\n",
        "        # YOUR CODE STARTS HERE\n",
        "        w =\n",
        "        b = \n",
        "        \n",
        "        \n",
        "        \n",
        "        # YOUR CODE ENDS HERE\n",
        "        \n",
        "        # Record the costs\n",
        "        if i % 100 == 0:\n",
        "           \n",
        "        \n",
        "            # Print the cost every 100 training iterations\n",
        "            if print_cost:\n",
        "                \n",
        "    \n",
        "    params = \n",
        "    grads = \n",
        "    \n",
        "    return params, grads, costs"
      ]
    },
    {
      "cell_type": "code",
      "execution_count": null,
      "metadata": {
        "deletable": false,
        "editable": false,
        "nbgrader": {
          "cell_type": "code",
          "checksum": "b65a5c90f86a990614156e41f64b4678",
          "grade": true,
          "grade_id": "cell-8e3d43fbb82a8901",
          "locked": true,
          "points": 10,
          "schema_version": 3,
          "solution": false,
          "task": false
        },
        "id": "R0MbH1E_yfzo",
        "outputId": "46edc804-483b-4fe5-ca81-6bcf01e80f5e"
      },
      "outputs": [
        {
          "name": "stdout",
          "output_type": "stream",
          "text": [
            "w = [[0.80956046]\n",
            " [2.0508202 ]]\n",
            "b = 1.5948713189708588\n",
            "dw = [[ 0.17860505]\n",
            " [-0.04840656]]\n",
            "db = -0.08888460336847771\n",
            "Costs = [array(0.15900538)]\n",
            "\u001b[92mAll tests passed!\n"
          ]
        }
      ],
      "source": [
        "params, grads, costs = optimize(w, b, X, Y, num_iterations=100, learning_rate=0.009, print_cost=False)\n",
        "\n",
        "print (\"w = \" + str(params[\"w\"]))\n",
        "print (\"b = \" + str(params[\"b\"]))\n",
        "print (\"dw = \" + str(grads[\"dw\"]))\n",
        "print (\"db = \" + str(grads[\"db\"]))\n",
        "print(\"Costs = \" + str(costs))\n",
        "\n",
        "optimize_test(optimize)"
      ]
    },
    {
      "cell_type": "markdown",
      "metadata": {
        "id": "KdypI3NWyfzo"
      },
      "source": [
        "<a name='ex-7'></a>\n",
        "### Exercise 7 - predict\n",
        "The previous function will output the learned w and b. We are able to use w and b to predict the labels for a dataset X. Implement the `predict()` function. There are two steps to computing predictions:\n",
        "\n",
        "1. Calculate $\\hat{Y} = A = \\sigma(w^T X + b)$\n",
        "\n",
        "2. Convert the entries of a into 0 (if activation <= 0.5) or 1 (if activation > 0.5), stores the predictions in a vector `Y_prediction`. If you wish, you can use an `if`/`else` statement in a `for` loop (though there is also a way to vectorize this). "
      ]
    },
    {
      "cell_type": "code",
      "execution_count": null,
      "metadata": {
        "deletable": false,
        "nbgrader": {
          "cell_type": "code",
          "checksum": "e56419b97ebf382a8f93ac2873988887",
          "grade": false,
          "grade_id": "cell-d6f924f49c51dc2f",
          "locked": false,
          "schema_version": 3,
          "solution": true,
          "task": false
        },
        "id": "DS8bswnbyfzo"
      },
      "outputs": [],
      "source": [
        "# GRADED FUNCTION: predict\n",
        "\n",
        "def predict(w, b, X):\n",
        "    '''\n",
        "    Predict whether the label is 0 or 1 using learned logistic regression parameters (w, b)\n",
        "    \n",
        "    Arguments:\n",
        "    w -- weights, a numpy array of size (num_px * num_px * 3, 1)\n",
        "    b -- bias, a scalar\n",
        "    X -- data of size (num_px * num_px * 3, number of examples)\n",
        "    \n",
        "    Returns:\n",
        "    Y_prediction -- a numpy array (vector) containing all predictions (0/1) for the examples in X\n",
        "    '''\n",
        "    \n",
        "    m = X.shape[1]\n",
        "    Y_prediction = np.zeros((1, m))\n",
        "    w = w.reshape(X.shape[0], 1)\n",
        "    \n",
        "    # Compute vector \"A\" predicting the probabilities of a cat being present in the picture\n",
        "    # YOUR CODE STARTS HERE\n",
        "    #(≈ 1 line of code)\n",
        "    A = \n",
        "    \n",
        "    \n",
        "    \n",
        "    # YOUR CODE ENDS HERE\n",
        "    \n",
        "    for i in range(A.shape[1]):\n",
        "        \n",
        "        # Convert probabilities A[0,i] to actual predictions p[0,i]\n",
        "        # YOUR CODE STARTS HERE\n",
        "        #(≈ 4 lines of code)\n",
        "        \n",
        "        \n",
        "        \n",
        "        \n",
        "        # YOUR CODE ENDS HERE\n",
        "    \n",
        "    return Y_prediction"
      ]
    },
    {
      "cell_type": "code",
      "execution_count": null,
      "metadata": {
        "deletable": false,
        "editable": false,
        "nbgrader": {
          "cell_type": "code",
          "checksum": "e3ea12608f15798d542a07c1bc9f561b",
          "grade": true,
          "grade_id": "cell-90b1fb967269548c",
          "locked": true,
          "points": 10,
          "schema_version": 3,
          "solution": false,
          "task": false
        },
        "id": "LEgPaJG4yfzo",
        "outputId": "a3569d89-ebc3-4aea-aab2-c9a313ed0ee8"
      },
      "outputs": [
        {
          "name": "stdout",
          "output_type": "stream",
          "text": [
            "predictions = [[1. 1. 0.]]\n",
            "\u001b[92mAll tests passed!\n"
          ]
        }
      ],
      "source": [
        "w = np.array([[0.1124579], [0.23106775]])\n",
        "b = -0.3\n",
        "X = np.array([[1., -1.1, -3.2],[1.2, 2., 0.1]])\n",
        "print (\"predictions = \" + str(predict(w, b, X)))\n",
        "\n",
        "predict_test(predict)"
      ]
    },
    {
      "cell_type": "markdown",
      "metadata": {
        "id": "EI47XDy-yfzo"
      },
      "source": [
        "<font color='blue'>\n",
        "    \n",
        "**What to remember:**\n",
        "    \n",
        "You've implemented several functions that:\n",
        "- Initialize (w,b)\n",
        "- Optimize the loss iteratively to learn parameters (w,b):\n",
        "    - Computing the cost and its gradient \n",
        "    - Updating the parameters using gradient descent\n",
        "- Use the learned (w,b) to predict the labels for a given set of examples"
      ]
    },
    {
      "cell_type": "markdown",
      "metadata": {
        "id": "a-8Tz4lOyfzo"
      },
      "source": [
        "<a name='5'></a>\n",
        "## 5 - Merge all functions into a model ##\n",
        "\n",
        "Ahora verá cómo se estructura el modelo general al juntar todos los componentes básicos (funciones implementadas en las partes anteriores), en el orden correcto.\n",
        "<a name='ex-8'></a>\n",
        "### Exercise 8 - model\n",
        "Implement the model function. Use the following notation:\n",
        "\n",
        "    - Y_prediction_test for your predictions on the test set\n",
        "    - Y_prediction_train for your predictions on the train set\n",
        "    - parameters, grads, costs for the outputs of optimize()"
      ]
    },
    {
      "cell_type": "code",
      "execution_count": null,
      "metadata": {
        "deletable": false,
        "nbgrader": {
          "cell_type": "code",
          "checksum": "f23cca6cfb750397e5d2ac44977e2c2a",
          "grade": false,
          "grade_id": "cell-6dcba5967c4cbf8c",
          "locked": false,
          "schema_version": 3,
          "solution": true,
          "task": false
        },
        "id": "SnQJNgdnyfzo"
      },
      "outputs": [],
      "source": [
        "# GRADED FUNCTION: model\n",
        "\n",
        "def model(X_train, Y_train, X_test, Y_test, num_iterations=2000, learning_rate=0.5, print_cost=False):\n",
        "    \"\"\"\n",
        "    Builds the logistic regression model by calling the function you've implemented previously\n",
        "    \n",
        "    Arguments:\n",
        "    X_train -- training set represented by a numpy array of shape (num_px * num_px * 3, m_train)\n",
        "    Y_train -- training labels represented by a numpy array (vector) of shape (1, m_train)\n",
        "    X_test -- test set represented by a numpy array of shape (num_px * num_px * 3, m_test)\n",
        "    Y_test -- test labels represented by a numpy array (vector) of shape (1, m_test)\n",
        "    num_iterations -- hyperparameter representing the number of iterations to optimize the parameters\n",
        "    learning_rate -- hyperparameter representing the learning rate used in the update rule of optimize()\n",
        "    print_cost -- Set to True to print the cost every 100 iterations\n",
        "    \n",
        "    Returns:\n",
        "    d -- dictionary containing information about the model.\n",
        "    \"\"\"\n",
        "    # YOUR CODE STARTS HERE\n",
        "    # (≈ 1 line of code)   \n",
        "    # initialize parameters with zeros \n",
        "    w, b = \n",
        "    \n",
        "    #(≈ 1 line of code)\n",
        "    # Gradient descent \n",
        "    params, grads, costs = \n",
        "    \n",
        "    # Retrieve parameters w and b from dictionary \"params\"\n",
        "    w = params[\"w\"]\n",
        "    b = params[\"b\"]\n",
        "    \n",
        "    # Predict test/train set examples (≈ 2 lines of code)\n",
        "    Y_prediction_test =\n",
        "    Y_prediction_train = \n",
        "    \n",
        "    \n",
        "    \n",
        "    \n",
        "    # YOUR CODE ENDS HERE\n",
        "\n",
        "    # Print train/test Errors\n",
        "    if print_cost:\n",
        "       \n",
        "    \n",
        "    d = {\"costs\": costs,\n",
        "         \"Y_prediction_test\": Y_prediction_test, \n",
        "         \"Y_prediction_train\" : Y_prediction_train, \n",
        "         \"w\" : w, \n",
        "         \"b\" : b,\n",
        "         \"learning_rate\" : learning_rate,\n",
        "         \"num_iterations\": num_iterations}\n",
        "    \n",
        "    return d"
      ]
    },
    {
      "cell_type": "code",
      "execution_count": null,
      "metadata": {
        "deletable": false,
        "editable": false,
        "nbgrader": {
          "cell_type": "code",
          "checksum": "b468bc5ddf6ecc5c7dbcb9a02cfe0216",
          "grade": true,
          "grade_id": "cell-4170e070f3cde17e",
          "locked": true,
          "points": 10,
          "schema_version": 3,
          "solution": false,
          "task": false
        },
        "id": "O8GG03h3yfzo",
        "outputId": "6963bdc7-7925-4523-e549-567f391ada19"
      },
      "outputs": [
        {
          "name": "stdout",
          "output_type": "stream",
          "text": [
            "\u001b[92mAll tests passed!\n"
          ]
        }
      ],
      "source": [
        "from public_tests import *\n",
        "\n",
        "model_test(model)"
      ]
    },
    {
      "cell_type": "markdown",
      "metadata": {
        "id": "bDWvb3sYyfzo"
      },
      "source": [
        "If you pass all the tests, run the following cell to train your model."
      ]
    },
    {
      "cell_type": "code",
      "execution_count": null,
      "metadata": {
        "id": "AHb9wqiOyfzp",
        "outputId": "6f02c23d-3772-488a-c23b-9976293ca29f"
      },
      "outputs": [
        {
          "name": "stdout",
          "output_type": "stream",
          "text": [
            "Cost after iteration 0: 0.693147\n",
            "Cost after iteration 100: 0.709726\n",
            "Cost after iteration 200: 0.657712\n",
            "Cost after iteration 300: 0.614611\n",
            "Cost after iteration 400: 0.578001\n",
            "Cost after iteration 500: 0.546372\n",
            "Cost after iteration 600: 0.518331\n",
            "Cost after iteration 700: 0.492852\n",
            "Cost after iteration 800: 0.469259\n",
            "Cost after iteration 900: 0.447139\n",
            "Cost after iteration 1000: 0.426262\n",
            "Cost after iteration 1100: 0.406617\n",
            "Cost after iteration 1200: 0.388723\n",
            "Cost after iteration 1300: 0.374678\n",
            "Cost after iteration 1400: 0.365826\n",
            "Cost after iteration 1500: 0.358532\n",
            "Cost after iteration 1600: 0.351612\n",
            "Cost after iteration 1700: 0.345012\n",
            "Cost after iteration 1800: 0.338704\n",
            "Cost after iteration 1900: 0.332664\n",
            "train accuracy: 91.38755980861244 %\n",
            "test accuracy: 34.0 %\n"
          ]
        }
      ],
      "source": [
        "logistic_regression_model = model(train_set_x, train_set_y, test_set_x, test_set_y, num_iterations=2000, learning_rate=0.005, print_cost=True)"
      ]
    },
    {
      "cell_type": "markdown",
      "metadata": {
        "id": "t8z9vr-qyfzp"
      },
      "source": [
        "**Comentario**: La precisión del entrenamiento es cercana al 100 %. Esta es una buena verificación de cordura: su modelo está funcionando y tiene la capacidad suficiente para adaptarse a los datos de entrenamiento. La precisión de la prueba es del 70%. En realidad, no está mal para este modelo simple, dado el pequeño conjunto de datos que usamos y que la regresión logística es un clasificador lineal. Pero no se preocupe, ¡construirá un clasificador aún mejor la próxima semana!\n",
        "\n",
        "Además, verá que el modelo claramente sobreajusta los datos de entrenamiento. Más adelante en esta especialización, aprenderá a reducir el sobreajuste, por ejemplo, mediante el uso de la regularización. Usando el código a continuación (y cambiando la variable `index`) puede ver las predicciones en las imágenes del conjunto de prueba."
      ]
    },
    {
      "cell_type": "code",
      "execution_count": null,
      "metadata": {
        "id": "5eGOHYGuyfzp",
        "outputId": "5e88a7b2-2ab9-4fee-975c-0a2e43c93728"
      },
      "outputs": [
        {
          "name": "stdout",
          "output_type": "stream",
          "text": [
            "y = 1, you predicted that it is a \"non-cat\" picture.\n"
          ]
        },
        {
          "data": {
            "image/png": "[encoded data removed]",
            "text/plain": [
              "<Figure size 432x288 with 1 Axes>"
            ]
          },
          "metadata": {
            "needs_background": "light"
          },
          "output_type": "display_data"
        }
      ],
      "source": [
        "# Example of a picture that was wrongly classified.\n",
        "index = 1\n",
        "plt.imshow(test_set_x[:, index].reshape((num_px, num_px, 3)))\n",
        "print (\"y = \" + str(test_set_y[0,index]) + \", you predicted that it is a \\\"\" + classes[int(logistic_regression_model['Y_prediction_test'][0,index])].decode(\"utf-8\") +  \"\\\" picture.\")"
      ]
    },
    {
      "cell_type": "markdown",
      "metadata": {
        "id": "uKw0Hn7Qyfzp"
      },
      "source": [
        "Let's also plot the cost function and the gradients."
      ]
    },
    {
      "cell_type": "code",
      "execution_count": null,
      "metadata": {
        "id": "V3lTbqIgyfzp",
        "outputId": "5455365e-fe13-43da-d859-8193f43d5274"
      },
      "outputs": [
        {
          "data": {
            "image/png": "[encoded data removed]",
            "text/plain": [
              "<Figure size 432x288 with 1 Axes>"
            ]
          },
          "metadata": {
            "needs_background": "light"
          },
          "output_type": "display_data"
        }
      ],
      "source": [
        "# Plot learning curve (with costs)\n",
        "costs = np.squeeze(logistic_regression_model['costs'])\n",
        "plt.plot(costs)\n",
        "plt.ylabel('cost')\n",
        "plt.xlabel('iterations (per hundreds)')\n",
        "plt.title(\"Learning rate =\" + str(logistic_regression_model[\"learning_rate\"]))\n",
        "plt.show()"
      ]
    },
    {
      "cell_type": "markdown",
      "metadata": {
        "id": "zSWCQLCwyfzp"
      },
      "source": [
        "**Interpretation**:\n",
        "You can see the cost decreasing. It shows that the parameters are being learned. However, you see that you could train the model even more on the training set. Try to increase the number of iterations in the cell above and rerun the cells. You might see that the training set accuracy goes up, but the test set accuracy goes down. This is called overfitting. "
      ]
    },
    {
      "cell_type": "markdown",
      "metadata": {
        "id": "cWBJals_yfzp"
      },
      "source": [
        "<a name='6'></a>\n",
        "## 6 - Further analysis (optional/ungraded exercise) ##\n",
        "\n",
        "Congratulations on building your first image classification model. Let's analyze it further, and examine possible choices for the learning rate $\\alpha$. "
      ]
    },
    {
      "cell_type": "markdown",
      "metadata": {
        "id": "EZm9YRMtyfzp"
      },
      "source": [
        "#### Choice of learning rate ####\n",
        "\n",
        "**Reminder**:\n",
        "In order for Gradient Descent to work you must choose the learning rate wisely. The learning rate $\\alpha$  determines how rapidly we update the parameters. If the learning rate is too large we may \"overshoot\" the optimal value. Similarly, if it is too small we will need too many iterations to converge to the best values. That's why it is crucial to use a well-tuned learning rate.\n",
        "\n",
        "Let's compare the learning curve of our model with several choices of learning rates. Run the cell below. This should take about 1 minute. Feel free also to try different values than the three we have initialized the `learning_rates` variable to contain, and see what happens. "
      ]
    },
    {
      "cell_type": "code",
      "execution_count": null,
      "metadata": {
        "id": "LmL2PSHlyfzp",
        "outputId": "1b66225d-fc99-4011-93f3-493af66fa977"
      },
      "outputs": [
        {
          "name": "stdout",
          "output_type": "stream",
          "text": [
            "Training a model with learning rate: 0.01\n",
            "\n",
            "-------------------------------------------------------\n",
            "\n",
            "Training a model with learning rate: 0.001\n",
            "\n",
            "-------------------------------------------------------\n",
            "\n",
            "Training a model with learning rate: 0.0001\n",
            "\n",
            "-------------------------------------------------------\n",
            "\n"
          ]
        },
        {
          "data": {
            "image/png": "[encoded data removed]",
            "text/plain": [
              "<Figure size 432x288 with 1 Axes>"
            ]
          },
          "metadata": {
            "needs_background": "light"
          },
          "output_type": "display_data"
        }
      ],
      "source": [
        "learning_rates = [0.01, 0.001, 0.0001]\n",
        "models = {}\n",
        "\n",
        "for lr in learning_rates:\n",
        "    print (\"Training a model with learning rate: \" + str(lr))\n",
        "    models[str(lr)] = model(train_set_x, train_set_y, test_set_x, test_set_y, num_iterations=1500, learning_rate=lr, print_cost=False)\n",
        "    print ('\\n' + \"-------------------------------------------------------\" + '\\n')\n",
        "\n",
        "for lr in learning_rates:\n",
        "    plt.plot(np.squeeze(models[str(lr)][\"costs\"]), label=str(models[str(lr)][\"learning_rate\"]))\n",
        "\n",
        "plt.ylabel('cost')\n",
        "plt.xlabel('iterations (hundreds)')\n",
        "\n",
        "legend = plt.legend(loc='upper center', shadow=True)\n",
        "frame = legend.get_frame()\n",
        "frame.set_facecolor('0.90')\n",
        "plt.show()"
      ]
    },
    {
      "cell_type": "markdown",
      "metadata": {
        "id": "TcRq2ga_yfzp"
      },
      "source": [
        "**Interpretación**:\n",
        "- Diferentes tasas de aprendizaje dan diferentes costos y, por lo tanto, diferentes resultados de predicción.\n",
        "- Si la tasa de aprendizaje es demasiado grande (0,01), el costo puede oscilar hacia arriba y hacia abajo. Incluso puede divergir (aunque en este ejemplo, el uso de 0.01 eventualmente termina siendo un buen valor por el costo).\n",
        "- Un menor costo no significa un mejor modelo. Hay que comprobar si es posible que haya sobreajuste. Ocurre cuando la precisión del entrenamiento es mucho mayor que la precisión de la prueba.\n",
        "- En el aprendizaje profundo, generalmente recomendamos que:\n",
        "     - Elegir la tasa de aprendizaje que mejor minimice la función de coste.\n",
        "     - Si su modelo se sobreajusta, use otras técnicas para reducir el sobreajuste. (Hablaremos de esto en videos posteriores).\n"
      ]
    },
    {
      "cell_type": "markdown",
      "metadata": {
        "id": "ArOWf9Hryfzp"
      },
      "source": [
        "<a name='7'></a>\n",
        "## 7 - Test with your own image (optional/ungraded exercise) ##\n",
        "\n",
        "Congratulations on finishing this assignment. You can use your own image and see the output of your model. To do that:\n",
        "    1. Click on \"File\" in the upper bar of this notebook, then click \"Open\" to go on your Coursera Hub.\n",
        "    2. Add your image to this Jupyter Notebook's directory, in the \"images\" folder\n",
        "    3. Change your image's name in the following code\n",
        "    4. Run the code and check if the algorithm is right (1 = cat, 0 = non-cat)!"
      ]
    },
    {
      "cell_type": "code",
      "execution_count": null,
      "metadata": {
        "id": "Tci2ZXwNyfzp",
        "outputId": "99104806-5a7f-4d82-ace4-c9d05e629c02"
      },
      "outputs": [
        {
          "name": "stdout",
          "output_type": "stream",
          "text": [
            "y = 0.0, your algorithm predicts a \"non-cat\" picture.\n"
          ]
        },
        {
          "data": {
            "image/png": "[encoded data removed]",
            "text/plain": [
              "<Figure size 432x288 with 1 Axes>"
            ]
          },
          "metadata": {
            "needs_background": "light"
          },
          "output_type": "display_data"
        }
      ],
      "source": [
        "# change this to the name of your image file\n",
        "my_image = \"my_image.jpg\"   \n",
        "\n",
        "# We preprocess the image to fit your algorithm.\n",
        "fname = \"images/\" + my_image\n",
        "image = np.array(Image.open(fname).resize((num_px, num_px)))\n",
        "plt.imshow(image)\n",
        "image = image / 255.\n",
        "image = image.reshape((1, num_px * num_px * 3)).T\n",
        "my_predicted_image = predict(logistic_regression_model[\"w\"], logistic_regression_model[\"b\"], image)\n",
        "\n",
        "print(\"y = \" + str(np.squeeze(my_predicted_image)) + \", your algorithm predicts a \\\"\" + classes[int(np.squeeze(my_predicted_image)),].decode(\"utf-8\") +  \"\\\" picture.\")"
      ]
    },
    {
      "cell_type": "markdown",
      "metadata": {
        "id": "pCqKKo0Fyfzp"
      },
      "source": [
        "<font color='blue'>\n",
        "    \n",
        "**What to remember from this assignment:**\n",
        "1. Preprocessing the dataset is important.\n",
        "2. You implemented each function separately: initialize(), propagate(), optimize(). Then you built a model().\n",
        "3. Tuning the learning rate (which is an example of a \"hyperparameter\") can make a big difference to the algorithm. You will see more examples of this later in this course!"
      ]
    },
    {
      "cell_type": "markdown",
      "metadata": {
        "id": "zRBH91vWyfzp"
      },
      "source": [
        "Finally, if you'd like, we invite you to try different things on this Notebook. Make sure you submit before trying anything. Once you submit, things you can play with include:\n",
        "    - Play with the learning rate and the number of iterations\n",
        "    - Try different initialization methods and compare the results\n",
        "    - Test other preprocessings (center the data, or divide each row by its standard deviation)"
      ]
    },
    {
      "cell_type": "markdown",
      "metadata": {
        "id": "bUmwwr0Eyfzq"
      },
      "source": [
        "Bibliography:\n",
        "- http://www.wildml.com/2015/09/implementing-a-neural-network-from-scratch/\n",
        "- https://stats.stackexchange.com/questions/211436/why-do-we-normalize-images-by-subtracting-the-datasets-image-mean-and-not-the-c"
      ]
    }
  ],
  "metadata": {
    "kernelspec": {
      "display_name": "Python 3",
      "language": "python",
      "name": "python3"
    },
    "language_info": {
      "codemirror_mode": {
        "name": "ipython",
        "version": 3
      },
      "file_extension": ".py",
      "mimetype": "text/x-python",
      "name": "python",
      "nbconvert_exporter": "python",
      "pygments_lexer": "ipython3",
      "version": "3.7.6"
    },
    "colab": {
      "provenance": [],
      "include_colab_link": true
    }
  },
  "nbformat": 4,
  "nbformat_minor": 0
}