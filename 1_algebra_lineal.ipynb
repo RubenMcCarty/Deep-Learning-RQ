{
  "cells": [
    {
      "cell_type": "markdown",
      "metadata": {
        "id": "view-in-github",
        "colab_type": "text"
      },
      "source": [
        "<a href=\"https://colab.research.google.com/github/RubenMcCarty/Deep-Learning-RQ/blob/main/1_algebra_lineal.ipynb\" target=\"_parent\"><img src=\"https://colab.research.google.com/assets/colab-badge.svg\" alt=\"Open In Colab\"/></a>"
      ]
    },
    {
      "cell_type": "markdown",
      "metadata": {
        "id": "jcXmWkw9-hue"
      },
      "source": [
        "# Álgebra Lineal\n",
        "# [MSc. Ruben Quispe](https://www.linkedin.com/in/ruben-quispe-l/)"
      ]
    },
    {
      "cell_type": "markdown",
      "metadata": {
        "id": "nXIZlILL-hue"
      },
      "source": [
        "El `álgebra lineal` es una rama de las matemáticas utilizada en muchos campos de la ciencia y la ingeniería, incluyendo la `Inteligencia Artificial`. Un buen entendimiento de álgebra lineal es esencial para trabajar con la mayoría de algoritmos de `Machine Learning`, y sobretodo algoritmos de `Deep Learning`. En este post vamos a ver los conceptos de álgebra lineal más importante en el desarrollo de algoritmos de IA, omitiendo muchos conceptos interesantes pero no esenciales para nuestras aplicaciones."
      ]
    },
    {
      "cell_type": "markdown",
      "metadata": {
        "id": "ZPVQIOn2-hue"
      },
      "source": [
        "## Objetos matemáticos"
      ]
    },
    {
      "cell_type": "markdown",
      "metadata": {
        "id": "w1pTDuuW-hue"
      },
      "source": [
        "En nuestro viaje por el apasionante mundo del desarrollo de algoritmos de IA nos encontraremos de manera recurrente con los siguientes objetos matemáticos."
      ]
    },
    {
      "cell_type": "markdown",
      "metadata": {
        "id": "BNXEFMsp-huf"
      },
      "source": [
        "### Escalares"
      ]
    },
    {
      "cell_type": "markdown",
      "metadata": {
        "id": "8KF6pB01-huf"
      },
      "source": [
        "Un `escalar` es simplemente un número único, a diferencia de la mayoría del resto de objetos matemáticos estudiados en álgebra lineal que normalmente son colecciones de múltiples números. Suelen denotarse mediante letras en minúscula, por ejemplo cuando decimos que una red neuronal tiene un número $n$ de neuronas estamos usando un valor escalar."
      ]
    },
    {
      "cell_type": "code",
      "execution_count": 1,
      "metadata": {
        "ExecuteTime": {
          "end_time": "2020-06-14T16:05:48.890188Z",
          "start_time": "2020-06-14T16:05:48.876664Z"
        },
        "id": "ii8xxOyT-huf",
        "outputId": "5e71c546-4115-4939-d29b-9fe51949d2e5",
        "colab": {
          "base_uri": "https://localhost:8080/"
        }
      },
      "outputs": [
        {
          "output_type": "execute_result",
          "data": {
            "text/plain": [
              "1"
            ]
          },
          "metadata": {},
          "execution_count": 1
        }
      ],
      "source": [
        "# un valor escalar\n",
        "x = 1\n",
        "x"
      ]
    },
    {
      "cell_type": "code",
      "source": [
        "x = 4\n",
        "x"
      ],
      "metadata": {
        "colab": {
          "base_uri": "https://localhost:8080/"
        },
        "id": "dxEiQk96z2nP",
        "outputId": "8b8c98eb-4b1f-4784-9a02-b5050ba910c5"
      },
      "execution_count": 2,
      "outputs": [
        {
          "output_type": "execute_result",
          "data": {
            "text/plain": [
              "4"
            ]
          },
          "metadata": {},
          "execution_count": 2
        }
      ]
    },
    {
      "cell_type": "markdown",
      "metadata": {
        "id": "Ska7LALI-hug"
      },
      "source": [
        "### Vectores"
      ]
    },
    {
      "cell_type": "markdown",
      "metadata": {
        "id": "oO3kFfOV-hug"
      },
      "source": [
        "Un `vector` es una colección de números dispuestos en una secuencia. Podemos identificar cada elemento individual mediante su posición en la secuencia. Suelen denotarse mediante letras en minúscula y en negrita, por ejemplo $\\mathbf{x}$, mientras que cada elemento se denota con la misma letra que el vector, pero sin negrita y con un subíndice indicando su posición en el vector, por ejemplo $x_1$ es el primer elemento en el vector $\\mathbf{x}$.\n",
        "\n",
        "\\begin{equation}\n",
        "    \\mathbf{x} = \n",
        "    \\begin{bmatrix}x_1 \\\\ x_2 \\\\ ... \\\\ x_n\\end{bmatrix}\n",
        "\\end{equation}"
      ]
    },
    {
      "cell_type": "code",
      "execution_count": 5,
      "metadata": {
        "ExecuteTime": {
          "end_time": "2020-06-14T16:06:02.034104Z",
          "start_time": "2020-06-14T16:06:02.015082Z"
        },
        "id": "CgwRgEoH-huh",
        "outputId": "4c6f9d3e-af87-40bd-e94b-2ed774bb2a28",
        "colab": {
          "base_uri": "https://localhost:8080/"
        }
      },
      "outputs": [
        {
          "output_type": "execute_result",
          "data": {
            "text/plain": [
              "array([1, 2, 3, 4])"
            ]
          },
          "metadata": {},
          "execution_count": 5
        }
      ],
      "source": [
        "# un vector\n",
        "\n",
        "import numpy as np # para trabajar con operaciones matemáticas\n",
        "\n",
        "x = np.array([1, 2, 3, 4])\n",
        "x"
      ]
    },
    {
      "cell_type": "code",
      "execution_count": 6,
      "metadata": {
        "ExecuteTime": {
          "end_time": "2020-06-14T16:06:09.057462Z",
          "start_time": "2020-06-14T16:06:09.052401Z"
        },
        "id": "GJL7YMR7-huh",
        "outputId": "e3016aaf-901d-4cfd-911d-60d7ce984fad",
        "colab": {
          "base_uri": "https://localhost:8080/"
        }
      },
      "outputs": [
        {
          "output_type": "execute_result",
          "data": {
            "text/plain": [
              "1"
            ]
          },
          "metadata": {},
          "execution_count": 6
        }
      ],
      "source": [
        "# primer valor\n",
        "\n",
        "x[0]"
      ]
    },
    {
      "cell_type": "code",
      "source": [
        "x[3]"
      ],
      "metadata": {
        "colab": {
          "base_uri": "https://localhost:8080/"
        },
        "id": "YuVI6KPN0yLH",
        "outputId": "ebdba40c-2f3f-4894-9cf9-dd535ae33d2d"
      },
      "execution_count": 7,
      "outputs": [
        {
          "output_type": "execute_result",
          "data": {
            "text/plain": [
              "4"
            ]
          },
          "metadata": {},
          "execution_count": 7
        }
      ]
    },
    {
      "cell_type": "markdown",
      "metadata": {
        "id": "fBc56UCs-huh"
      },
      "source": [
        "> ⚠️ Recuerda que en Python los índices de las diferentes estructuras de datos empiezan por el valor 0."
      ]
    },
    {
      "cell_type": "markdown",
      "metadata": {
        "id": "Es-_t126-huh"
      },
      "source": [
        "Utilizaremos vectores para representar puntos en el espacio, secuencias de valores en series temporales, frases en las que cada elemento corresponde a una palabra, etc."
      ]
    },
    {
      "cell_type": "markdown",
      "metadata": {
        "id": "MM_APjU8-hui"
      },
      "source": [
        "### Matrices"
      ]
    },
    {
      "cell_type": "markdown",
      "metadata": {
        "id": "PYws2EGP-hui"
      },
      "source": [
        "Una `matriz` es un vector bidimensional, en el que cada elemento se identifica mediante dos índices en vez de uno. Suelen denotarse mediante letras en mayúscula y en negrita, por ejemplo $\\mathbf{A}$. Como en el caso de los vectores, cada elemento se identifica con la misma letra que la matriz, pero sin negrita y con dos subíndices indicando su posición en la matriz. Por ejemplo el valor $A_{1,1}$ es el elemento en la primera fila y primera columna.\n",
        "\n",
        "\\begin{equation}\n",
        "    \\mathbf{A} = \n",
        "    \\begin{bmatrix}A_{1,1} && A_{1,2} \\\\  A_{2,1} && A_{2,2} \\end{bmatrix}\n",
        "\\end{equation}"
      ]
    },
    {
      "cell_type": "code",
      "execution_count": 8,
      "metadata": {
        "ExecuteTime": {
          "end_time": "2020-06-14T16:15:26.086286Z",
          "start_time": "2020-06-14T16:15:26.074286Z"
        },
        "id": "tZhDj3rF-hui",
        "outputId": "7dd3e116-dd63-4cb9-e9c4-0c4083df1192",
        "colab": {
          "base_uri": "https://localhost:8080/"
        }
      },
      "outputs": [
        {
          "output_type": "execute_result",
          "data": {
            "text/plain": [
              "array([[1, 2],\n",
              "       [3, 4]])"
            ]
          },
          "metadata": {},
          "execution_count": 8
        }
      ],
      "source": [
        "# una matriz\n",
        "\n",
        "A = np.array([[1, 2], [3, 4]])\n",
        "A"
      ]
    },
    {
      "cell_type": "code",
      "execution_count": 9,
      "metadata": {
        "ExecuteTime": {
          "end_time": "2020-06-14T16:15:35.881262Z",
          "start_time": "2020-06-14T16:15:35.875260Z"
        },
        "id": "i8uDFJdf-hui",
        "outputId": "df7f6483-4a38-468b-efbf-6dcdc243b904",
        "colab": {
          "base_uri": "https://localhost:8080/"
        }
      },
      "outputs": [
        {
          "output_type": "execute_result",
          "data": {
            "text/plain": [
              "1"
            ]
          },
          "metadata": {},
          "execution_count": 9
        }
      ],
      "source": [
        "# primer valor\n",
        "\n",
        "A[0,0]"
      ]
    },
    {
      "cell_type": "markdown",
      "metadata": {
        "id": "o7wZT49u-hui"
      },
      "source": [
        "Utilizaremos matrices para representar imágenes en blanco y negro, los parámetros de una capa en una red neuronal, etc. En la siguiente imágen puedes ver un ejemplo de una imágen con un número 5, como puedes ver se trata de una matriz en la que cada elemento indica la intensidad de color para cada píxel."
      ]
    },
    {
      "cell_type": "markdown",
      "metadata": {
        "id": "nynvOYmg-hui"
      },
      "source": [
        "![](https://koenig-media.raywenderlich.com/uploads/2018/01/firstXsample.png)"
      ]
    },
    {
      "cell_type": "markdown",
      "metadata": {
        "id": "33mrkIz2-hui"
      },
      "source": [
        "### Tensores"
      ]
    },
    {
      "cell_type": "markdown",
      "metadata": {
        "id": "1MbJlZZw-hui"
      },
      "source": [
        "Un `tensor` es una secuencia de valores dispuesta en una malla regular con un número arbitrario de dimensiones. Podemos ver un `escalar` como un tensor con 0 dimensiones, un `vector` como un tensor de 1 dimensión y una `matriz` como un tensor de 2 dimensiones. Así pues, hablamos de tensores en general como la estructura de datos que engloba las estructuras vistas anteriormente y cualquier otra con mayor número de dimensiones."
      ]
    },
    {
      "cell_type": "code",
      "execution_count": 10,
      "metadata": {
        "ExecuteTime": {
          "end_time": "2020-06-14T16:23:17.688473Z",
          "start_time": "2020-06-14T16:23:17.677446Z"
        },
        "id": "kWSZOMGV-huj",
        "outputId": "3c191732-0fe5-4425-b3db-9a91b74b9d90",
        "colab": {
          "base_uri": "https://localhost:8080/"
        }
      },
      "outputs": [
        {
          "output_type": "execute_result",
          "data": {
            "text/plain": [
              "array([[[1, 2],\n",
              "        [3, 4]],\n",
              "\n",
              "       [[1, 2],\n",
              "        [3, 4]]])"
            ]
          },
          "metadata": {},
          "execution_count": 10
        }
      ],
      "source": [
        "# un tensor de 3 dimensiones \n",
        "# puedes interpretarlo como dos matrices\n",
        "\n",
        "A = np.array([[[1, 2], [3, 4]],[[1, 2], [3, 4]]])\n",
        "A"
      ]
    },
    {
      "cell_type": "markdown",
      "metadata": {
        "id": "GklK81Kf-huj"
      },
      "source": [
        "Usaremos tensores de tres dimensiones para representar imágenes en color (canales RGB), tensores de cuatro dimensiones para representar vídeos (secuencia de imágenes en color), etc."
      ]
    },
    {
      "cell_type": "markdown",
      "metadata": {
        "id": "ccDkO3tw-huj"
      },
      "source": [
        "## Operaciones"
      ]
    },
    {
      "cell_type": "markdown",
      "metadata": {
        "id": "OkJGzXmx-huj"
      },
      "source": [
        "Una operación importante cuando trabajamos con matrices es la `traspuesta`. Consiste en intercambiar las filas por las columnas, y suele denotarse con el superíndice $(\\cdot)^T$, por ejemplo $\\mathbf{A}^T$ es la matriz traspuesta de $\\mathbf{A}$."
      ]
    },
    {
      "cell_type": "code",
      "execution_count": 11,
      "metadata": {
        "ExecuteTime": {
          "end_time": "2020-06-14T16:28:17.184214Z",
          "start_time": "2020-06-14T16:28:17.165192Z"
        },
        "id": "LHdk3A3b-huj",
        "outputId": "e3d66c69-8506-4da6-b120-3a83a9469888",
        "colab": {
          "base_uri": "https://localhost:8080/"
        }
      },
      "outputs": [
        {
          "output_type": "execute_result",
          "data": {
            "text/plain": [
              "array([[0, 1, 2, 3, 4],\n",
              "       [5, 6, 7, 8, 9]])"
            ]
          },
          "metadata": {},
          "execution_count": 11
        }
      ],
      "source": [
        "A = np.arange(10).reshape(2,5)\n",
        "A"
      ]
    },
    {
      "cell_type": "code",
      "execution_count": 12,
      "metadata": {
        "ExecuteTime": {
          "end_time": "2020-06-14T16:28:22.643417Z",
          "start_time": "2020-06-14T16:28:22.636417Z"
        },
        "id": "SawiXeiK-huj",
        "outputId": "9599d4d8-8025-4c86-96fe-f5c7f1ac552d",
        "colab": {
          "base_uri": "https://localhost:8080/"
        }
      },
      "outputs": [
        {
          "output_type": "execute_result",
          "data": {
            "text/plain": [
              "array([[0, 5],\n",
              "       [1, 6],\n",
              "       [2, 7],\n",
              "       [3, 8],\n",
              "       [4, 9]])"
            ]
          },
          "metadata": {},
          "execution_count": 12
        }
      ],
      "source": [
        "A.T"
      ]
    },
    {
      "cell_type": "markdown",
      "metadata": {
        "id": "ZKlIGY5x-huj"
      },
      "source": [
        "Un vector es una matriz de una sola columna, por lo que su transpuesta es simplemente una matriz con una fila con los mismos valores. En cuanto a un valor escalar, él mismo es su traspuesta."
      ]
    },
    {
      "cell_type": "markdown",
      "metadata": {
        "id": "0NTX_HdK-huj"
      },
      "source": [
        "Podemos sumar matrices entre ellas siempre que tengan la misma forma, añadiendo cada elemento de manera independiente."
      ]
    },
    {
      "cell_type": "code",
      "execution_count": 13,
      "metadata": {
        "ExecuteTime": {
          "end_time": "2020-06-14T16:31:46.948160Z",
          "start_time": "2020-06-14T16:31:46.942108Z"
        },
        "id": "JjR_FWjW-huj",
        "outputId": "278a7f58-ec72-4c2f-87d7-47076b5f467a",
        "colab": {
          "base_uri": "https://localhost:8080/"
        }
      },
      "outputs": [
        {
          "output_type": "execute_result",
          "data": {
            "text/plain": [
              "(array([[ 0.32449894, -0.7232287 ,  0.27795191],\n",
              "        [ 0.5140582 ,  1.05008286,  2.05516421],\n",
              "        [-0.56991231, -0.19938194, -0.62652498]]),\n",
              " array([[ 1.16697488, -0.53077259, -0.69981148],\n",
              "        [-0.25084038, -1.10156618,  0.25388547],\n",
              "        [-2.53375795,  1.30795619,  0.28691586]]))"
            ]
          },
          "metadata": {},
          "execution_count": 13
        }
      ],
      "source": [
        "A = np.random.randn(3,3)\n",
        "B = np.random.randn(3,3)\n",
        "\n",
        "A, B"
      ]
    },
    {
      "cell_type": "code",
      "execution_count": 14,
      "metadata": {
        "ExecuteTime": {
          "end_time": "2020-06-14T16:31:50.046481Z",
          "start_time": "2020-06-14T16:31:50.036935Z"
        },
        "id": "1M7l2TNY-huj",
        "outputId": "7b0d66e3-1bea-4b57-da54-4f691e9cb1ad",
        "colab": {
          "base_uri": "https://localhost:8080/"
        }
      },
      "outputs": [
        {
          "output_type": "execute_result",
          "data": {
            "text/plain": [
              "array([[ 1.49147381, -1.25400129, -0.42185957],\n",
              "       [ 0.26321782, -0.05148333,  2.30904968],\n",
              "       [-3.10367026,  1.10857425, -0.33960912]])"
            ]
          },
          "metadata": {},
          "execution_count": 14
        }
      ],
      "source": [
        "A + B"
      ]
    },
    {
      "cell_type": "markdown",
      "metadata": {
        "id": "qz-vix-P-huk"
      },
      "source": [
        "> ⚡ Como vimos en un post anterior podemos saltarnos esta restricción al trabajar con NumPy gracias al `broadcasting`."
      ]
    },
    {
      "cell_type": "markdown",
      "metadata": {
        "id": "kZnaujXl-huk"
      },
      "source": [
        "### Multiplicando matrices y vectores"
      ]
    },
    {
      "cell_type": "markdown",
      "metadata": {
        "id": "52iRxaYv-huk"
      },
      "source": [
        "Una de las operaciones más importanes en álgebra lineal es la multiplicación de matrices. Para poder multiplicar dos matrices, $\\mathbf{C} = \\mathbf{A} \\mathbf{B}$, necesitamos que $\\mathbf{A}$ tenga el mismo número de columnas que filas tiene $\\mathbf{B}$. El resultado, $\\mathbf{C}$, será una matriz con el mismo número de filas que $\\mathbf{A}$ y el mismo número de columnas que $\\mathbf{B}$."
      ]
    },
    {
      "cell_type": "code",
      "execution_count": 15,
      "metadata": {
        "ExecuteTime": {
          "end_time": "2020-06-14T17:35:17.653113Z",
          "start_time": "2020-06-14T17:35:17.637113Z"
        },
        "id": "BaOXHAWv-huk",
        "outputId": "a37c2a5c-23d2-4f69-c047-d759c7bf944a",
        "colab": {
          "base_uri": "https://localhost:8080/"
        }
      },
      "outputs": [
        {
          "output_type": "execute_result",
          "data": {
            "text/plain": [
              "(array([[1, 2, 1],\n",
              "        [0, 1, 0],\n",
              "        [2, 3, 4]]), array([[2, 5],\n",
              "        [6, 7],\n",
              "        [1, 8]]))"
            ]
          },
          "metadata": {},
          "execution_count": 15
        }
      ],
      "source": [
        "A = np.array([[1,2,1],[0,1,0],[2,3,4]])\n",
        "B = np.array([[2,5],[6,7],[1,8]])\n",
        "\n",
        "A, B"
      ]
    },
    {
      "cell_type": "code",
      "execution_count": 16,
      "metadata": {
        "ExecuteTime": {
          "end_time": "2020-06-14T17:35:17.793394Z",
          "start_time": "2020-06-14T17:35:17.774397Z"
        },
        "id": "tv89mTrY-huk",
        "outputId": "4cb78d2f-9124-4411-8ebb-3e27009b8250",
        "colab": {
          "base_uri": "https://localhost:8080/"
        }
      },
      "outputs": [
        {
          "output_type": "execute_result",
          "data": {
            "text/plain": [
              "array([[15, 27],\n",
              "       [ 6,  7],\n",
              "       [26, 63]])"
            ]
          },
          "metadata": {},
          "execution_count": 16
        }
      ],
      "source": [
        "C = A.dot(B)\n",
        "C"
      ]
    },
    {
      "cell_type": "code",
      "execution_count": 17,
      "metadata": {
        "ExecuteTime": {
          "end_time": "2020-06-14T17:35:35.093491Z",
          "start_time": "2020-06-14T17:35:35.074490Z"
        },
        "id": "Xg-oLku_-huk",
        "outputId": "58200fa7-278c-4fe0-a1fa-1b2efcf47327",
        "colab": {
          "base_uri": "https://localhost:8080/"
        }
      },
      "outputs": [
        {
          "output_type": "execute_result",
          "data": {
            "text/plain": [
              "array([[15, 27],\n",
              "       [ 6,  7],\n",
              "       [26, 63]])"
            ]
          },
          "metadata": {},
          "execution_count": 17
        }
      ],
      "source": [
        "# notación alternativa\n",
        "\n",
        "C = A @ B\n",
        "C"
      ]
    },
    {
      "cell_type": "code",
      "execution_count": 18,
      "metadata": {
        "ExecuteTime": {
          "end_time": "2020-06-14T17:35:18.972284Z",
          "start_time": "2020-06-14T17:35:18.958286Z"
        },
        "id": "x82o3N9c-huk",
        "outputId": "b64d1d5d-bfb6-43c5-f87a-0108e24a60c6",
        "colab": {
          "base_uri": "https://localhost:8080/"
        }
      },
      "outputs": [
        {
          "output_type": "execute_result",
          "data": {
            "text/plain": [
              "(3, 2)"
            ]
          },
          "metadata": {},
          "execution_count": 18
        }
      ],
      "source": [
        "C.shape"
      ]
    },
    {
      "cell_type": "markdown",
      "metadata": {
        "id": "TuDIbeSX-huk"
      },
      "source": [
        "Esta operación es distributiva, $\\mathbf{A}(\\mathbf{B}+\\mathbf{C}) = \\mathbf{A} \\mathbf{B} + \\mathbf{A} \\mathbf{C}$, y asociativa, $\\mathbf{A}(\\mathbf{B} \\mathbf{C}) = (\\mathbf{A} \\mathbf{B}) \\mathbf{C}$, pero no commutativa, $\\mathbf{A} \\mathbf{B} \\neq \\mathbf{B} \\mathbf{A}$. Aquí tienes una visualización de la operación.\n",
        "\n",
        "![](https://thumbs.gfycat.com/PositiveExhaustedAmericangoldfinch-size_restricted.gif)"
      ]
    },
    {
      "cell_type": "markdown",
      "metadata": {
        "id": "TgsPsoNI-huk"
      },
      "source": [
        "Ten en cuenta que esta operación no es el resultado de multiplicar cada elemento de las matrices por separado. Este tipo de multiplicación se conoce como `Hardamard product` o `element-wise product` en inglés. En este caso ambas matrices deberán tener la misma forma."
      ]
    },
    {
      "cell_type": "code",
      "execution_count": 19,
      "metadata": {
        "ExecuteTime": {
          "end_time": "2020-06-14T16:43:03.925568Z",
          "start_time": "2020-06-14T16:43:03.910538Z"
        },
        "id": "iMO-dNeU-huk",
        "outputId": "c2d06ef7-92b2-40c3-ad84-eb767be78db4",
        "colab": {
          "base_uri": "https://localhost:8080/"
        }
      },
      "outputs": [
        {
          "output_type": "execute_result",
          "data": {
            "text/plain": [
              "(array([[-0.34183356, -0.28285092],\n",
              "        [ 0.35390491,  0.4451797 ]]), array([[ 0.29508577, -2.28792057],\n",
              "        [ 1.63717218,  0.16449271]]))"
            ]
          },
          "metadata": {},
          "execution_count": 19
        }
      ],
      "source": [
        "A = np.random.randn(2,2)\n",
        "B = np.random.randn(2,2)\n",
        "\n",
        "A, B"
      ]
    },
    {
      "cell_type": "code",
      "execution_count": 20,
      "metadata": {
        "ExecuteTime": {
          "end_time": "2020-06-14T16:43:04.380413Z",
          "start_time": "2020-06-14T16:43:04.366415Z"
        },
        "id": "MPeHVyV6-huk",
        "outputId": "06fc3e55-3d5f-403c-e892-7b0ffb6d613c",
        "colab": {
          "base_uri": "https://localhost:8080/"
        }
      },
      "outputs": [
        {
          "output_type": "execute_result",
          "data": {
            "text/plain": [
              "array([[-0.10087022,  0.64714043],\n",
              "       [ 0.57940327,  0.07322882]])"
            ]
          },
          "metadata": {},
          "execution_count": 20
        }
      ],
      "source": [
        "# multiplicamos cada elemento de manera independiente\n",
        "\n",
        "A*B"
      ]
    },
    {
      "cell_type": "markdown",
      "metadata": {
        "id": "V6R10wzE-huk"
      },
      "source": [
        "## Identidad y matriz inversa"
      ]
    },
    {
      "cell_type": "markdown",
      "metadata": {
        "id": "_BWRevIx-huk"
      },
      "source": [
        "La matriz `identidad` es una matriz con $1$ en todos los valores de su diagonal y $0$ en el resto de valores."
      ]
    },
    {
      "cell_type": "code",
      "execution_count": 21,
      "metadata": {
        "ExecuteTime": {
          "end_time": "2020-06-14T16:49:23.912570Z",
          "start_time": "2020-06-14T16:49:23.894547Z"
        },
        "id": "Pf3YpyDP-huk",
        "outputId": "e3d955db-7776-4cef-eb7e-4b2110169748",
        "colab": {
          "base_uri": "https://localhost:8080/"
        }
      },
      "outputs": [
        {
          "output_type": "execute_result",
          "data": {
            "text/plain": [
              "array([[1., 0., 0.],\n",
              "       [0., 1., 0.],\n",
              "       [0., 0., 1.]])"
            ]
          },
          "metadata": {},
          "execution_count": 21
        }
      ],
      "source": [
        "# matriz identidad\n",
        "\n",
        "I = np.eye(3)\n",
        "I"
      ]
    },
    {
      "cell_type": "markdown",
      "metadata": {
        "id": "j-Tj9blQ-huk"
      },
      "source": [
        "Esta matriz tiene la propiedad de no alterar ningún vector por el que se multiplique, y nos permite definir la matriz `inversa` como aquella matriz que cumple la condición $\\mathbf{A}^{-1} \\mathbf{A} = \\mathbf{I}$, donde $\\mathbf{A}^{-1}$ es la matriz inversa de $\\mathbf{A}$ y $\\mathbf{I}$ es la matriz identidad. Esta matriz inversa nos permite resolver sistemas de ecuaciones lineales de la forma $\\mathbf{A} \\mathbf{x} = \\mathbf{b}$, donde $\\mathbf{A}$ y $\\mathbf{b}$ son una matriz y un vector, respectivamente, de valores conocidos y $\\mathbf{x}$ es un vector de incógnitas. La solución a este sistema es $\\mathbf{x} = \\mathbf{A}^{-1} \\mathbf{b}$. El problema con la matriz inversa es que no siempre existe y, cuando lo hace, calcularla puede requerir de un tiempo de cálculo considerable, el cual aumenta con el tamaño de $\\mathbf{A}$ requiriendo de métodos alternativos de resolución en la gran mayoría de ocasiones."
      ]
    },
    {
      "cell_type": "code",
      "execution_count": 22,
      "metadata": {
        "ExecuteTime": {
          "end_time": "2020-06-14T16:55:35.739276Z",
          "start_time": "2020-06-14T16:55:35.720244Z"
        },
        "id": "KJJtpAf6-huk",
        "outputId": "3c5789f8-95a1-4587-fca2-00e4ac7aa098",
        "colab": {
          "base_uri": "https://localhost:8080/"
        }
      },
      "outputs": [
        {
          "output_type": "execute_result",
          "data": {
            "text/plain": [
              "array([[ 1,  2,  3],\n",
              "       [ 5,  7, 11],\n",
              "       [21, 29, 31]])"
            ]
          },
          "metadata": {},
          "execution_count": 22
        }
      ],
      "source": [
        "import numpy.linalg as linalg\n",
        "\n",
        "A = np.array([[1,2,3],[5,7,11],[21,29,31]])\n",
        "A"
      ]
    },
    {
      "cell_type": "code",
      "execution_count": 23,
      "metadata": {
        "ExecuteTime": {
          "end_time": "2020-06-14T16:55:43.341361Z",
          "start_time": "2020-06-14T16:55:43.322927Z"
        },
        "id": "SvuH9TOZ-hul",
        "outputId": "2f390eb2-4207-4001-d7b4-7d3e888e99a2",
        "colab": {
          "base_uri": "https://localhost:8080/"
        }
      },
      "outputs": [
        {
          "output_type": "execute_result",
          "data": {
            "text/plain": [
              "array([[-2.31818182,  0.56818182,  0.02272727],\n",
              "       [ 1.72727273, -0.72727273,  0.09090909],\n",
              "       [-0.04545455,  0.29545455, -0.06818182]])"
            ]
          },
          "metadata": {},
          "execution_count": 23
        }
      ],
      "source": [
        "linalg.inv(A)"
      ]
    },
    {
      "cell_type": "markdown",
      "metadata": {
        "id": "9ZFlhK99-hul"
      },
      "source": [
        "> 💡 Puedes encontrar toda la funcionalidad que ofrece NumPy para álgebra lineal en el paquete `numpy.linalg`."
      ]
    },
    {
      "cell_type": "markdown",
      "metadata": {
        "id": "v8FIMkEC-hul"
      },
      "source": [
        "Podemos resolver el siguiente sistema de ecuaciones lineales\n",
        "\n",
        "\\begin{equation}\n",
        "2x + 6y = 6 \\\\\n",
        "5x + 3y = -9\n",
        "\\end{equation}\n",
        "\n",
        "de esta manera"
      ]
    },
    {
      "cell_type": "code",
      "execution_count": 24,
      "metadata": {
        "ExecuteTime": {
          "end_time": "2020-06-14T16:59:59.845163Z",
          "start_time": "2020-06-14T16:59:59.826142Z"
        },
        "id": "vpxT5W-o-hul",
        "outputId": "27d997e0-6b2a-40b7-8c83-6e58fee0afe0",
        "colab": {
          "base_uri": "https://localhost:8080/"
        }
      },
      "outputs": [
        {
          "output_type": "execute_result",
          "data": {
            "text/plain": [
              "array([-3.,  2.])"
            ]
          },
          "metadata": {},
          "execution_count": 24
        }
      ],
      "source": [
        "A  = np.array([[2, 6], [5, 3]])\n",
        "b = np.array([6, -9])\n",
        "\n",
        "x = linalg.inv(A).dot(b)\n",
        "x"
      ]
    },
    {
      "cell_type": "code",
      "execution_count": 25,
      "metadata": {
        "ExecuteTime": {
          "end_time": "2020-06-14T17:00:00.431235Z",
          "start_time": "2020-06-14T17:00:00.415225Z"
        },
        "id": "bjBs9tjs-hul",
        "outputId": "684cbf15-0e94-440d-817a-091d1d5f1b59",
        "colab": {
          "base_uri": "https://localhost:8080/"
        }
      },
      "outputs": [
        {
          "output_type": "execute_result",
          "data": {
            "text/plain": [
              "array([ True,  True])"
            ]
          },
          "metadata": {},
          "execution_count": 25
        }
      ],
      "source": [
        "# comprobar solución\n",
        "\n",
        "A.dot(x) == b"
      ]
    },
    {
      "cell_type": "markdown",
      "metadata": {
        "id": "NBnlgNy8-hul"
      },
      "source": [
        "Ya que hemos reescrito el problema como $\\mathbf{A} \\mathbf{x} = \\mathbf{b}$, donde\n",
        "\n",
        "\\begin{equation}\n",
        "    \\mathbf{A} = \n",
        "    \\begin{bmatrix}2 && 6 \\\\  5 && 3 \\end{bmatrix}     \n",
        "    \\,\n",
        "    \\mathbf{x} = \\begin{bmatrix}x \\\\ y \\end{bmatrix}\n",
        "    \\, \n",
        "    \\mathbf{b} = \\begin{bmatrix}6 \\\\ -9 \\end{bmatrix}\n",
        "\\end{equation}\n",
        "\n"
      ]
    },
    {
      "cell_type": "markdown",
      "metadata": {
        "id": "JjI_iRXw-hul"
      },
      "source": [
        "Un tipo especial de matriz es la matriz `diagonal`, con elementos diferentes de $0$ en su diagonal y $0$ en el resto de elementos (similar a la matriz identidad). Otros tipos de matrices interesantes son las matrices `simétricas`, matrices cuya traspuesta es ella misma, $\\mathbf{A} = \\mathbf{A}^{T}$, y las matrices `ortogonales`, cuya inversa es igual a su traspuesta, $\\mathbf{A}^{-1} = \\mathbf{A}^{T}$, muy interesante ya que en este caso calcular la inversa es una operación muy sencilla."
      ]
    },
    {
      "cell_type": "markdown",
      "metadata": {
        "heading_collapsed": true,
        "id": "aG5pGQDK-hul"
      },
      "source": [
        "## Descomposición de matrices"
      ]
    },
    {
      "cell_type": "markdown",
      "metadata": {
        "hidden": true,
        "id": "zAJHwtpv-hul"
      },
      "source": [
        "En álgebra lineal es muy común la descomposición de matrices en constituyentes más básicos independientes de su representación y que pueden darnos cierta información interesante. La descomposición más común es la descomposición en vectores propios, en la que una matriz se descompone en un conjunto de vectores y valores propios que cumplen la siguiente propiedad\n",
        "\n",
        "\\begin{equation}\n",
        " \\mathbf{A} \\mathbf{v} = \\lambda \\mathbf{v}\n",
        "\\end{equation}\n",
        "\n",
        "donde $\\mathbf{v}$ es un vector propio y $\\lambda$ su correspondiente valor propio. Juntando todos los vectores propios en una matriz $\\mathbf{V}$ y los valores propios en una matriz diagonal, $\\mathbf{\\Lambda}$, vemos que $\\mathbf{A} = \\mathbf{V} \\mathbf{\\Lambda} \\mathbf{V}^{-1}$."
      ]
    },
    {
      "cell_type": "code",
      "execution_count": 26,
      "metadata": {
        "ExecuteTime": {
          "end_time": "2020-06-14T17:20:39.722396Z",
          "start_time": "2020-06-14T17:20:39.714770Z"
        },
        "hidden": true,
        "id": "QtiuLd43-hul",
        "outputId": "f050c5c0-1279-461e-ad2c-a3f10c1d7af2",
        "colab": {
          "base_uri": "https://localhost:8080/"
        }
      },
      "outputs": [
        {
          "output_type": "execute_result",
          "data": {
            "text/plain": [
              "array([[ 1,  2,  3],\n",
              "       [ 5,  7, 11],\n",
              "       [21, 29, 31]])"
            ]
          },
          "metadata": {},
          "execution_count": 26
        }
      ],
      "source": [
        "A = np.array([[1,2,3],[5,7,11],[21,29,31]])\n",
        "A"
      ]
    },
    {
      "cell_type": "code",
      "execution_count": 27,
      "metadata": {
        "ExecuteTime": {
          "end_time": "2020-06-14T17:21:15.850133Z",
          "start_time": "2020-06-14T17:21:15.840129Z"
        },
        "hidden": true,
        "id": "06JZ1s-Z-hul",
        "outputId": "784ce526-c18f-44b1-ee04-11a2b7b46f2d",
        "colab": {
          "base_uri": "https://localhost:8080/"
        }
      },
      "outputs": [
        {
          "output_type": "execute_result",
          "data": {
            "text/plain": [
              "(array([42.26600592, -0.35798416, -2.90802176]),\n",
              " array([[-0.08381182, -0.76283526, -0.18913107],\n",
              "        [-0.3075286 ,  0.64133975, -0.6853186 ],\n",
              "        [-0.94784057, -0.08225377,  0.70325518]]))"
            ]
          },
          "metadata": {},
          "execution_count": 27
        }
      ],
      "source": [
        "L, V = linalg.eig(A)\n",
        "L, V"
      ]
    },
    {
      "cell_type": "code",
      "execution_count": 28,
      "metadata": {
        "ExecuteTime": {
          "end_time": "2020-06-14T17:21:46.422324Z",
          "start_time": "2020-06-14T17:21:46.404298Z"
        },
        "hidden": true,
        "id": "CpbuKdFX-hul",
        "outputId": "e801505a-e308-435f-b1bd-5f7451695b7c",
        "colab": {
          "base_uri": "https://localhost:8080/"
        }
      },
      "outputs": [
        {
          "output_type": "execute_result",
          "data": {
            "text/plain": [
              "(array([-0.08381182, -0.3075286 , -0.94784057]), 42.2660059241356)"
            ]
          },
          "metadata": {},
          "execution_count": 28
        }
      ],
      "source": [
        "# primer vector/valor propio\n",
        "\n",
        "v, l = V[:,0], L[0]\n",
        "v, l"
      ]
    },
    {
      "cell_type": "markdown",
      "metadata": {
        "hidden": true,
        "id": "PPmmtSNk-hul"
      },
      "source": [
        "No todas las matrices pueden descomponerse de esta manera, pero cuando se puede esta descomposición nos da mucha información sobre la matriz útil para la derivación de propiedades interesantes para el desarrollo de algoritmos (como el signo de los valores propios)."
      ]
    },
    {
      "cell_type": "markdown",
      "metadata": {
        "heading_collapsed": true,
        "id": "NfpgWRp1-hul"
      },
      "source": [
        "## Otras propiedades"
      ]
    },
    {
      "cell_type": "markdown",
      "metadata": {
        "hidden": true,
        "id": "6u5fpdo2-hul"
      },
      "source": [
        "Para terminar vamos a ver algunas otras propiedades interesantes de las matrices que pueden ser útiles. La `diagonal` de una matriz es el vector que contiene todos los elementos de la diagonal de una matriz."
      ]
    },
    {
      "cell_type": "code",
      "execution_count": 29,
      "metadata": {
        "ExecuteTime": {
          "end_time": "2020-06-14T17:30:34.992567Z",
          "start_time": "2020-06-14T17:30:34.975538Z"
        },
        "hidden": true,
        "id": "utaJxzZu-hul",
        "outputId": "828dad8c-34c7-40e9-94f9-3be5ed802126",
        "colab": {
          "base_uri": "https://localhost:8080/"
        }
      },
      "outputs": [
        {
          "output_type": "execute_result",
          "data": {
            "text/plain": [
              "array([ 1,  7, 31])"
            ]
          },
          "metadata": {},
          "execution_count": 29
        }
      ],
      "source": [
        "np.diag(A)"
      ]
    },
    {
      "cell_type": "markdown",
      "metadata": {
        "hidden": true,
        "id": "Oh2Wt7fw-hum"
      },
      "source": [
        "La `traza` de una matriz es la suma de los elementos de su diagonal."
      ]
    },
    {
      "cell_type": "code",
      "execution_count": 30,
      "metadata": {
        "ExecuteTime": {
          "end_time": "2020-06-14T17:32:32.592152Z",
          "start_time": "2020-06-14T17:32:32.582631Z"
        },
        "hidden": true,
        "id": "LddBlEeq-hum",
        "outputId": "2eb43d66-9074-4ece-e10b-0e9ce8f23c85",
        "colab": {
          "base_uri": "https://localhost:8080/"
        }
      },
      "outputs": [
        {
          "output_type": "execute_result",
          "data": {
            "text/plain": [
              "39"
            ]
          },
          "metadata": {},
          "execution_count": 30
        }
      ],
      "source": [
        "np.trace(A)"
      ]
    },
    {
      "cell_type": "markdown",
      "metadata": {
        "hidden": true,
        "id": "2cE6F605-hum"
      },
      "source": [
        "El `determinante` de una matriz es una función que mapea matrices a valores escalares, y su valor absoluto nos da una idea de cuanto se expandirá o contraerá el espacio al multiplicar esa matriz."
      ]
    },
    {
      "cell_type": "code",
      "execution_count": null,
      "metadata": {
        "ExecuteTime": {
          "end_time": "2020-06-14T17:34:30.879667Z",
          "start_time": "2020-06-14T17:34:30.864668Z"
        },
        "hidden": true,
        "id": "FsvdYHQl-hum",
        "outputId": "eb28caa2-0e73-4b4b-df0d-f70b5639cc26"
      },
      "outputs": [
        {
          "data": {
            "text/plain": [
              "43.99999999999999"
            ]
          },
          "execution_count": 56,
          "metadata": {},
          "output_type": "execute_result"
        }
      ],
      "source": [
        "linalg.det(A)"
      ]
    },
    {
      "cell_type": "markdown",
      "metadata": {
        "id": "lrYPMnM5-hum"
      },
      "source": [
        "## Resumen"
      ]
    },
    {
      "cell_type": "markdown",
      "metadata": {
        "id": "FQCvPp6I-hum"
      },
      "source": [
        "En este post hemos visto los elementos más importantes del campo del álgebra lineal aplicados a la Inteligencia Artificial. De entre ellos, el saber trabajar con `tensores` (incluyendo `vectores` y `matrices`) y sus operaciones principales (sumas y multiplicaciones) es esencial en el desarrollo de `Redes Neuronales`. Otros algoritmos de `Machine Learning` también envuelven otras propiedades, como por ejemplo la descomposición de matrices (el algoritmo `PCA` puede derivarse directamente de la descomposición de una matriz en vectores propios). Si quieres aprender más sobre este campo, a continuación encontrarás varias referencias que pueden serte muy útiles."
      ]
    },
    {
      "cell_type": "markdown",
      "metadata": {
        "id": "c6BnlQYf-hum"
      },
      "source": [
        "## Referencias\n",
        "\n",
        "Libros\n",
        "\n",
        "- *The Matrix Cookbook* (Petersen y Pedersen, 2006)\n",
        "- *Deep Learning* (Goodfellow, Bengio y Courville, 2016)\n",
        "\n",
        "Cursos\n",
        "\n",
        "- [MIT, 2010](https://ocw.mit.edu/courses/mathematics/18-06-linear-algebra-spring-2010/)\n",
        "- [FastAI](https://github.com/fastai/numerical-linear-algebra)\n",
        "\n",
        "Youtube\n",
        "\n",
        "- [3Blue1Brown](https://www.youtube.com/watch?v=kjBOesZCoqc&list=PL0-GT3co4r2y2YErbmuJw2L5tW4Ew2O5B)\n",
        "\n",
        "Posts\n",
        "\n",
        "- https://explained.ai/matrix-calculus/index.html "
      ]
    }
  ],
  "metadata": {
    "kernelspec": {
      "display_name": "Python 3",
      "language": "python",
      "name": "python3"
    },
    "language_info": {
      "codemirror_mode": {
        "name": "ipython",
        "version": 3
      },
      "file_extension": ".py",
      "mimetype": "text/x-python",
      "name": "python",
      "nbconvert_exporter": "python",
      "pygments_lexer": "ipython3",
      "version": "3.7.6"
    },
    "toc": {
      "base_numbering": 1,
      "nav_menu": {},
      "number_sections": true,
      "sideBar": true,
      "skip_h1_title": false,
      "title_cell": "Table of Contents",
      "title_sidebar": "Contents",
      "toc_cell": false,
      "toc_position": {},
      "toc_section_display": true,
      "toc_window_display": false
    },
    "colab": {
      "name": "1. algebra_lineal.ipynb",
      "provenance": [],
      "include_colab_link": true
    }
  },
  "nbformat": 4,
  "nbformat_minor": 0
}