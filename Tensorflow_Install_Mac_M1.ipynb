{
  "nbformat": 4,
  "nbformat_minor": 0,
  "metadata": {
    "colab": {
      "name": "Tensorflow Install-Mac-M1",
      "provenance": [],
      "authorship_tag": "ABX9TyO4Rl68C0lhTLeYFFeS33Pg",
      "include_colab_link": true
    },
    "kernelspec": {
      "name": "python3",
      "display_name": "Python 3"
    },
    "language_info": {
      "name": "python"
    }
  },
  "cells": [
    {
      "cell_type": "markdown",
      "metadata": {
        "id": "view-in-github",
        "colab_type": "text"
      },
      "source": [
        "<a href=\"https://colab.research.google.com/github/RubenMcCarty/Deep-Learning-RQ/blob/main/Tensorflow_Install_Mac_M1.ipynb\" target=\"_parent\"><img src=\"https://colab.research.google.com/assets/colab-badge.svg\" alt=\"Open In Colab\"/></a>"
      ]
    },
    {
      "cell_type": "markdown",
      "source": [
        "# **Applications of Deep Neural Networks**\n",
        "## Profesor MSc. Ruben Quispe ... UPN"
      ],
      "metadata": {
        "id": "mWJKmZFtgnRt"
      }
    },
    {
      "cell_type": "markdown",
      "source": [
        "# Instalación de software (Mac en Apple M1)\n",
        "Esta clase está técnicamente orientada. Un estudiante exitoso debe poder compilar y ejecutar código Python que utilice TensorFlow para el Deep Learning. Hay dos opciones para lograr esto:\n",
        "\n",
        "* Instale Python, TensorFlow y algunos IDE (Jupyter, TensorFlow y otros)\n",
        "* Usa Google CoLab en la nube\n",
        "\n",
        "# Instalación de Python y TensorFlow\n",
        "¿Tu Mac es Intel o Apple M1 (ARM)? Las máquinas más nuevas basadas en Mac ARM M1 tienen un soporte de aprendizaje profundo considerablemente mejor que sus contrapartes más antiguas basadas en Intel. Mac no admite GPU NVIDIA desde 2016; sin embargo, los nuevos chips M1 ofrecen capacidades similares que le permitirán ejecutar la mayor parte del código de este curso. Puede ejecutar cualquier código que no sea compatible con el chip Apple M1 a través de Google CoLab, un entorno Python gratuito basado en GPU.\n",
        "\n",
        "Si está ejecutando una Mac Intel más antigua, todavía hay algunas opciones. \n",
        "Con la introducción del chip M1, Apple introdujo un sistema en un chip. El nuevo Mac M1 contiene CPU, GPU y soporte de hardware de aprendizaje profundo, todo en un solo chip. El Mac M1 puede ejecutar software creado para los Mac Intel más antiguos usando una capa de emulación llamada Rosetta). Para aprovechar el nuevo chip M1 de Python, debe usar una distribución especial de Python llamada Miniforge. Miniforge reemplaza otras distribuciones de Python que puedas tener instaladas, como Anaconda o Miniconda. Las instrucciones de Apple sugieren que elimine Anaconda o Miniconda antes de instalar Miniforge. Debido a que la Mac M1 tiene una arquitectura muy diferente a la de Intel, la distribución Miniforge maximizará su rendimiento. Tenga en cuenta que una vez que instale Miniforge, se convertirá en su intérprete de Python predeterminado.\n"
      ],
      "metadata": {
        "id": "E6CCbqx1hsAQ"
      }
    },
    {
      "cell_type": "markdown",
      "source": [
        "# Instalar miniforja\n",
        "Hay una variedad de métodos para instalar Miniforge. Si tiene problemas para seguir mis instrucciones, puede consultar este proceso de instalación, en el que baso estas instrucciones.\n",
        "\n",
        "Prefiero usar Homebrew para instalar Miniforge. Homebrew es un administrador de paquetes para Mac, similar a yum o apt-get para Linux. Para instalar Homebrew, siga este enlace y copie/pegue el comando de instalación en una ventana de terminal de Mac.\n",
        "\n",
        "Una vez que haya instalado Homebrew, sugiero cerrar la ventana de la terminal y abrir una nueva para completar la instalación.\n",
        "\n",
        "A continuación, debe instalar las utilidades de línea de comandos xcode-select. Use el siguiente comando para instalar:\n",
        "\n",
        "xcode-select --install\n",
        "\n",
        "Si el comando anterior da un error, debe instalar XCode desde la App Store.\n",
        "\n",
        "Ahora utilizará Homebrew para instalar Miniforge con el siguiente comando:\n",
        "\n",
        "brew install miniforge\n",
        "\n",
        "Debe anotar qué directorio"
      ],
      "metadata": {
        "id": "MaiHDxXcjap5"
      }
    },
    {
      "cell_type": "markdown",
      "source": [
        "# Iniciar miniforja\n",
        "Ejecute el siguiente comando para iniciar su entorno base conda:\n",
        "\n",
        "conda init\n",
        "\n",
        "Esto establecerá la RUTA de python en la base de Miniforge en su perfil (~/.bash_profile si es bash o ~/.zshenv si es zsh) y creará el entorno virtual base.\n",
        "\n",
        "# Asegúrese de tener el Python correcto (cuando las cosas van mal)\n",
        "A veces, es posible que se hayan instalado versiones anteriores de Python, y cuando intente ejecutar el script de instalación a continuación, recibirá un error:\n",
        "\n",
        "Collecting package metadata (repodata.json): done\n",
        "Solving environment: failed\n",
        "\n",
        "ResolvePackageNotFound: \n",
        "  - tensorflow-deps\n",
        "\n",
        "Para verificar que tiene registrada la versión correcta de Python, cierre y vuelva a abrir la ventana de su terminal. Ejecute el siguiente comando:\n",
        "\n",
        "which python\n",
        "\n",
        "Este comando debería responder con algo similar a:\n",
        "\n",
        "/opt/homebrew/Caskroom/miniforge/base/bin/python\n",
        "\n",
        "Las cosas clave que debe buscar en la respuesta anterior son \"homebrew\" y \"miniforge\". Si ve \"anaconda\" o \"miniconda\", su ruta apunta al Python incorrecto. Deberá modificar su \".zshrc\", asegúrese de que las tres rutas de Python coincidan con la ruta en la que \"preparar\" lo instaló anteriormente. Lo más probable es que su \"miniforja\" esté instalada en una de estas ubicaciones:\n",
        "\n",
        "* /usr/local/Caskroom/miniforge/base\n",
        "* /opt/homebrew/Caskroom/miniforge/base\n",
        "\n",
        "Más información aquí.\n",
        "\n",
        "# Instalar Jupyter y Crear entorno\n",
        "A continuación, instalemos Jupyter, que es el editor que utilizará en este curso.\n",
        "\n",
        "conda install -y jupyter\n",
        "\n",
        "De hecho, lanzaremos Jupyter más tarde.\n",
        "\n",
        "Primero, desactivamos el entorno base.\n",
        "\n",
        "conda deactivate\n",
        "\n",
        "A continuación, instalaremos el archivo Mac M1 tensorflow-apple-metal.yml que proporciono. Ejecute el siguiente comando desde el mismo directorio que contiene tensorflow-apple-metal.yml.\n",
        "\n",
        "conda env create -f tensorflow-apple-metal.yml -n tensorflow\n"
      ],
      "metadata": {
        "id": "MuiGzEudkXZG"
      }
    },
    {
      "cell_type": "markdown",
      "source": [
        "# Problemas que crean el entorno (cuando las cosas van mal)\n",
        "Debido a algunos cambios recientes en una de las dependencias de TensorFlow, es posible que reciba el siguiente error al instalar el archivo YML.\n",
        "\n",
        "Collecting grpcio\n",
        "  Using cached grpcio-1.34.0.tar.gz (21.0 MB)\n",
        "    ERROR: Command errored out with exit status 1:\n",
        "\n",
        "Si encuentra este error, elimine su entorno, defina dos variables ambientales y vuelva a intentarlo:\n",
        "\n",
        "conda env remove --name tensorflow\n",
        "export GRPC_PYTHON_BUILD_SYSTEM_OPENSSL=1\n",
        "export GRPC_PYTHON_BUILD_SYSTEM_ZLIB=1\n",
        "conda env create -f tensorflow-apple-metal.yml -n tensorflow\n",
        "\n",
        "# Activando nuevo entorno\n",
        "Para ingresar a este entorno, debe utilizar el siguiente comando:\n",
        "\n",
        "conda activate tensorflow\n",
        "\n",
        "Por ahora, agreguemos la compatibilidad con Jupyter a su nuevo entorno.\n",
        "\n",
        "conda install nb_conda\n",
        "\n",
        "# Registra tu Entorno\n",
        "El siguiente comando registra su entorno tensorflow. Nuevamente, asegúrese de \"conda activar\" su nuevo entorno de tensorflow.\n",
        "\n",
        "python -m ipykernel install --user --name tensorflow --display-name \"Python 3.9 (tensorflow)\"\n",
        "\n",
        "# Prueba de su entorno\n",
        "Ahora puede iniciar Jupyter Notebook. Utilice el siguiente comando.\n",
        "\n",
        "cuaderno jupyter\n",
        "Ahora puede ejecutar el siguiente código para verificar que tiene las versiones esperadas."
      ],
      "metadata": {
        "id": "ApsWSQt_mBAc"
      }
    },
    {
      "cell_type": "code",
      "execution_count": null,
      "metadata": {
        "colab": {
          "base_uri": "https://localhost:8080/"
        },
        "id": "fYQRWso2ge5j",
        "outputId": "d3323914-f142-4205-e581-564b5c844241"
      },
      "outputs": [
        {
          "output_type": "stream",
          "name": "stdout",
          "text": [
            "Tensor Flow Version: 2.7.0\n",
            "Keras Version: 2.7.0\n",
            "\n",
            "Python 3.7.12 (default, Sep 10 2021, 00:21:48) \n",
            "[GCC 7.5.0]\n",
            "Pandas 1.1.5\n",
            "Scikit-Learn 1.0.2\n",
            "GPU is NOT AVAILABLE\n"
          ]
        }
      ],
      "source": [
        "# What version of Python do you have?\n",
        "import sys\n",
        "\n",
        "import tensorflow.keras\n",
        "import pandas as pd\n",
        "import sklearn as sk\n",
        "import tensorflow as tf\n",
        "\n",
        "print(f\"Tensor Flow Version: {tf.__version__}\")\n",
        "print(f\"Keras Version: {tensorflow.keras.__version__}\")\n",
        "print()\n",
        "print(f\"Python {sys.version}\")\n",
        "print(f\"Pandas {pd.__version__}\")\n",
        "print(f\"Scikit-Learn {sk.__version__}\")\n",
        "gpu = len(tf.config.list_physical_devices('GPU'))>0\n",
        "print(\"GPU is\", \"available\" if gpu else \"NOT AVAILABLE\")"
      ]
    }
  ]
}