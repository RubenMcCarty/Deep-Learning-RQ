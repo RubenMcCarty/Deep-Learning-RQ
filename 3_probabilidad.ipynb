{
  "cells": [
    {
      "cell_type": "markdown",
      "metadata": {
        "id": "view-in-github",
        "colab_type": "text"
      },
      "source": [
        "<a href=\"https://colab.research.google.com/github/RubenMcCarty/Deep-Learning-RQ/blob/main/3_probabilidad.ipynb\" target=\"_parent\"><img src=\"https://colab.research.google.com/assets/colab-badge.svg\" alt=\"Open In Colab\"/></a>"
      ]
    },
    {
      "cell_type": "markdown",
      "metadata": {
        "id": "NXkSWSInAPIX"
      },
      "source": [
        "# Probabilidad\n",
        "# [MSc. Ruben Quispe](https://www.linkedin.com/in/ruben-quispe-l/)"
      ]
    },
    {
      "cell_type": "markdown",
      "metadata": {
        "id": "iSmDjgM5APIY"
      },
      "source": [
        "La teoría de la `probabilidad` es la rama de las matemáticas que se encarga de la representación de fenómenos aleatorios o inciertos. En aplicaciones de `Inteligencia Artificial` se usa de dos formas. En primer lugar, las leyes de la probabilidad nos indican la manera en que nuestros sistemas de IA deberían razonar, de manera que diseñamos nuestros algoritmos para aproximar diferentes expresiones derivadas a partir de estas leyes. En segundo lugar, utilizamos probabilidad y `estadística` para analizar el comportamiento teórico de estos algoritmos. Si bien la probabilidad nos ayuda a llevar a cabo razonamientos en presencia de incertidumbre, la teoría de la `información` nos permite cuantificar la cantidad de incertidumbre en una distribución probabilística.   "
      ]
    },
    {
      "cell_type": "markdown",
      "metadata": {
        "heading_collapsed": true,
        "id": "649yWDlUAPIY"
      },
      "source": [
        "## Fuentes de Incertidumbre"
      ]
    },
    {
      "cell_type": "markdown",
      "metadata": {
        "hidden": true,
        "id": "x8ZbtDYRAPIY"
      },
      "source": [
        "La mayoría de aplicaciones relacionadas con la ciencia de la computación son `deterministas` (el resultado es el mismo en cada ejecución de un programa). Sin embargo, en el campo de la IA y el `Machine Learning` en particular nos enfrentamos a `incertidumbre` y `estocasticidad` de manera contínua (el resultado de un programa es diferente cada vez que lo ejecutamos). Las principales fuentes de esta incertidumbre son:\n",
        "\n",
        "- Estocasticidad inherente al sistema modelado debido, por ejemplo, a dinámicas aleatorias (imagina que queremos entrenar una IA para ganar a un juego de cartas, en cada partida las cartas están barajadas de manera aleatoria).\n",
        "- Observabilidad parcial, incluso en sistemas totalmente determinísticos no tener acceso a toda la información es una fuente importante de incertidumbre.\n",
        "- Modelado incompleto debido al descarte de parte de la información observada.\n",
        "\n",
        "Pese a que tenemos estas fuentes de incertidumbre, en muchos casos es mejor desde un punto de vista práctico utilizar reglas sencillas con incertidumbre que funcionen en la mayoría de ocasiones que reglas ciertas pero complicadas de desarrollar. Incluso si existe una regla verdadera y determinista, el coste que conlleva su desarrollo y su propensión a tener errores no compensa."
      ]
    },
    {
      "cell_type": "markdown",
      "metadata": {
        "heading_collapsed": true,
        "id": "wbbGhSWmAPIZ"
      },
      "source": [
        "## Probabilidad"
      ]
    },
    {
      "cell_type": "markdown",
      "metadata": {
        "hidden": true,
        "id": "C6VKR0bpAPIZ"
      },
      "source": [
        "Originalmente, la teoría de la probabilidad se desarrolló para analizar la frecuencia de eventos. Por ejemplo, cuando decimos que en un dado tenemos una probabilidad de $1/6$ de sacar un $6$ significa que si repetimos el evento de manera infinita, en el límite observaremos un resultado de $6$ en $1$ de cada $6$ tiradas. Este razonamiento, sin embargo, no es extensible a otras aplicaciones. En el caso de un sistema de diagnóstico médico decir que un paciente tiene una probabilidad de $1/6$ de tener una enfermedad es una medida del `grado de credibilidad`, siendo un valor de $1$ la certeza absoluta de que el paciente está enfermo y $0$ la certeza absoluta de que no lo está. Este tipo de probabilidad se conoce por el nombre de `probabilidad Bayesiana`, mientras que el primer tipo mencionado se conoce como `probabilidad frecuentista`."
      ]
    },
    {
      "cell_type": "markdown",
      "metadata": {
        "id": "z4yAfvxvAPIZ"
      },
      "source": [
        "## Variables aleatorias"
      ]
    },
    {
      "cell_type": "markdown",
      "metadata": {
        "id": "xIhuDX7dAPIa"
      },
      "source": [
        "Una `variable aleatoria` es una variable que puede tener diferentes valores de manera aleatoria. "
      ]
    },
    {
      "cell_type": "code",
      "execution_count": 1,
      "metadata": {
        "ExecuteTime": {
          "end_time": "2020-06-16T07:08:39.537164Z",
          "start_time": "2020-06-16T07:08:39.527163Z"
        },
        "id": "TJ0-EDFOAPIa",
        "outputId": "18fe9610-c308-4e21-f960-b62322200090",
        "colab": {
          "base_uri": "https://localhost:8080/"
        }
      },
      "outputs": [
        {
          "output_type": "execute_result",
          "data": {
            "text/plain": [
              "array([-1.73954517,  1.18882995,  0.98084334])"
            ]
          },
          "metadata": {},
          "execution_count": 1
        }
      ],
      "source": [
        "import numpy as np\n",
        "\n",
        "x = np.random.randn(3)\n",
        "x"
      ]
    },
    {
      "cell_type": "markdown",
      "metadata": {
        "id": "-crNPjidAPIb"
      },
      "source": [
        "> ⚠️ Cada vez que ejecutes la casilla anterior obtendrás un vector con valores distintos. Puedes usar la función `np.random.seed(SEMILLA)` para fijar una `semilla` de manera que los números aleatorios generados en diferentes ejecuciones serán siempre los mismos."
      ]
    },
    {
      "cell_type": "markdown",
      "metadata": {
        "id": "pNY3wKxeAPIb"
      },
      "source": [
        "Una variable aleatoria no es más que la descripción de todos los posibles estados, los cuales vienen definidos por una `distribución de probabilidad`."
      ]
    },
    {
      "cell_type": "markdown",
      "metadata": {
        "id": "6-QgYvsjAPIb"
      },
      "source": [
        "## Distribuciones de probabilidad"
      ]
    },
    {
      "cell_type": "markdown",
      "metadata": {
        "id": "qVM4rzpVAPIb"
      },
      "source": [
        "Una `distribución de probabilidad` es la descripción de cómo es de probable que una variable aleatoria tome un valor en particular u otro. Esta descripción dependerá de si la variable aleatoria es `discreta` o `continua`."
      ]
    },
    {
      "cell_type": "markdown",
      "metadata": {
        "ExecuteTime": {
          "end_time": "2020-06-16T07:16:31.138062Z",
          "start_time": "2020-06-16T07:16:31.134061Z"
        },
        "heading_collapsed": true,
        "id": "xSRx4es4APIc"
      },
      "source": [
        "### Variables Discretas"
      ]
    },
    {
      "cell_type": "markdown",
      "metadata": {
        "hidden": true,
        "id": "S6iEa19LAPIc"
      },
      "source": [
        "Para describir la distribución de probabilidad de una variable discreta utilizamos una `función de masa de probabilidad` (PMF), normalmente con la notación $P(x)$. Esta función nos dice cómo de probable es que una variable aleatoria tenga un valor de $x$, siendo $P(x)=1$ la certeza absoluta de que la variable aleatoria toma el valor $x$ y $P(x)=0$ la certeza absoluta de que no lo toma. Puede aplicarse a varias variables aleatorias a la vez, por ejemplo $P(x,y)$ describe la probabilidad de que una variable aleatoria tome el valor $x$ y otra el valor $y$ de manera simultánea. Esta función debe cumplir unos requisitos, principalmente:\n",
        "\n",
        "- $0 \\leq P(x) \\leq 1$, la probabilidad de un evento siempre es un número entre 0 (imposible) y 1 (seguro).\n",
        "- $\\sum_x P(x) = 1$, la suma de las probabilidades de todos los eventos posibles siempre vale 1.\n",
        "\n",
        "Nuestro ejemplo anterior del dado es un caso de función de masa de probabilidad, en este caso uniforme, en la que tenemos 6 estados diferentes y cada posible caso tiene una probabilidad de $1/6$, cumpliendo los dos requisitos anteriores."
      ]
    },
    {
      "cell_type": "code",
      "execution_count": 2,
      "metadata": {
        "ExecuteTime": {
          "end_time": "2020-06-16T07:39:44.722810Z",
          "start_time": "2020-06-16T07:39:44.606777Z"
        },
        "hidden": true,
        "id": "eYfPIo1GAPIc",
        "outputId": "d41b68d1-c7ff-4d26-9308-666160142b5f",
        "colab": {
          "base_uri": "https://localhost:8080/",
          "height": 300
        }
      },
      "outputs": [
        {
          "output_type": "display_data",
          "data": {
            "text/plain": [
              "<Figure size 432x288 with 1 Axes>"
            ],
            "image/png": "[encoded data removed]"
          },
          "metadata": {
            "needs_background": "light"
          }
        }
      ],
      "source": [
        "import matplotlib.pyplot as plt\n",
        "\n",
        "P = np.full(6,1/6)\n",
        "x = list(range(1,7))\n",
        "\n",
        "plt.bar(x, P)\n",
        "plt.xlabel(\"Estados\", fontsize=14)\n",
        "plt.ylabel(\"Probabilidad\", fontsize=14)\n",
        "plt.title(\"Distribución Discreta Uniforme\", fontsize=14)\n",
        "plt.show()"
      ]
    },
    {
      "cell_type": "markdown",
      "metadata": {
        "id": "QIRCqJ1wAPIc"
      },
      "source": [
        "### Variables Continuas"
      ]
    },
    {
      "cell_type": "markdown",
      "metadata": {
        "id": "9-doPFzwAPIc"
      },
      "source": [
        "Describimos la distribución de probabilidad de una variable continua mediante la `función de densidad de probabilidad` (PDF), normalmente con la notación $p(x)$. En este caso no tenemos eventos discretos en los que podemos evaluar nuestra variable, sino que ésta toma un valor en una región infinitesimal dada por la función de probabilidad. También debe cumplir unos requisitos similares a los anteriores:\n",
        "\n",
        "- $0 \\leq p(x) \\leq 1$, la probabilidad de un evento siempre es un número entre 0 (imposible) y 1 (seguro).\n",
        "- $\\int_x p(x) dx = 1$, la suma de las probabilidades de todos los eventos posibles siempre vale 1.\n",
        "\n",
        "La distribución de probabilidad contínua más común es la `distribución Gaussiana`.\n",
        "\n",
        "$$ N(x; \\mu,\\sigma^ 2) = \\sqrt{\\frac{1}{2 \\pi \\sigma^2}}exp \\left( - \\frac{1}{2 \\sigma^2} (x-\\mu)^2 \\right) $$\n",
        "\n",
        "donde $\\mu$ es el `valor medio` de la distribución y $\\sigma^2$ es la `variancia` de la distribución.\n",
        "\n",
        "![](https://upload.wikimedia.org/wikipedia/commons/thumb/7/74/Normal_Distribution_PDF.svg/720px-Normal_Distribution_PDF.svg.png)"
      ]
    },
    {
      "cell_type": "code",
      "execution_count": 3,
      "metadata": {
        "ExecuteTime": {
          "end_time": "2020-06-16T09:17:21.962679Z",
          "start_time": "2020-06-16T09:17:21.958679Z"
        },
        "id": "4hAp-x5yAPId",
        "outputId": "a74b64fe-b448-420f-84a4-ef605426e3a9",
        "colab": {
          "base_uri": "https://localhost:8080/"
        }
      },
      "outputs": [
        {
          "output_type": "execute_result",
          "data": {
            "text/plain": [
              "0.4998059644886735"
            ]
          },
          "metadata": {},
          "execution_count": 3
        }
      ],
      "source": [
        "# distribución gaussiana\n",
        "\n",
        "m, s = 0, 0.2\n",
        "x = np.random.normal(m, s)\n",
        "x"
      ]
    },
    {
      "cell_type": "markdown",
      "metadata": {
        "id": "AejPBbHYAPId"
      },
      "source": [
        "Otras distribuciones comunes son: `Bernouilli` para variables aleatorias binarias, `Laplace` cuando queremos una distribución con un valor muy grande cerca de $x=0$, `Dirac` cuando queremos concentrar toda la densidad de probabilidad en un solo valor, etc. También es común encontrar `mezclas` de distribuciones en las que el valor de la variables final es la suma ponderada de cada una de las distribuciones, $p(x) = \\sum_i w_i p_i(x)$. El ejemplo más común es la `mezcla de distribuciones Gaussianas` (GMM, *Gaussian mixture models*) ya que permite aproximar cualquier densidad de probabilidad mediante la superposición de distribuciones de tipo Gaussiana.\n",
        "\n",
        "![](https://miro.medium.com/max/1200/1*lTv7e4Cdlp738X_WFZyZHA.png)"
      ]
    },
    {
      "cell_type": "markdown",
      "metadata": {
        "id": "RfrfZJRfAPId"
      },
      "source": [
        "## Probabilidad Marginal"
      ]
    },
    {
      "cell_type": "markdown",
      "metadata": {
        "id": "FPL0PMN8APId"
      },
      "source": [
        "A veces conocemos la distribución de probabilidad sobre un conjunto de variables aleatorias, por ejemplo $P(x,y)$, y queremos conocer la distribución de probabilidad sobre una de ellas, por ejemplo $P(x)$. Esto se conoce como `probabilidad marginal` y se puede calcular utilizando la `regla de la suma`, $P(x) = \\sum_y P(x, y)$."
      ]
    },
    {
      "cell_type": "markdown",
      "metadata": {
        "id": "UjkZKCMAAPId"
      },
      "source": [
        "## Probabilidad Condicional"
      ]
    },
    {
      "cell_type": "markdown",
      "metadata": {
        "id": "lyJkZekFAPId"
      },
      "source": [
        "La `probabilidad condicional` nos dice la probabilidad de que un evento ocurra dado que otro evento ya haya ocurrido. Esto se denota como $P(y|x)$, donde $x$ es el evento que ya ha ocurrido e $y$ es el evento del que queremos conocer su probabilidad. Se puede calcular con la siguiente fórmula\n",
        "\n",
        "$$ P(y|x) = \\frac{P(y,x)}{P(x)} $$"
      ]
    },
    {
      "cell_type": "markdown",
      "metadata": {
        "id": "x_VXeXnxAPId"
      },
      "source": [
        "Podemos encontrar la probabilidad conjunta sobre un muchas variables aleatorias descomponiéndola en probabilidades condicionales sobre una sola variable\n",
        "\n",
        "$$ P(x_1, x_2, ..., x_n) = P(x_1) \\prod_{i=2}^n P(x_i | x_1, x_2, ..., x_{i-1}) $$\n",
        "\n",
        "Esto se conoce como la `regla de la cadena` de la probabilidad."
      ]
    },
    {
      "cell_type": "markdown",
      "metadata": {
        "heading_collapsed": true,
        "id": "CP_iSUQ1APId"
      },
      "source": [
        "## La regla de Bayes"
      ]
    },
    {
      "cell_type": "markdown",
      "metadata": {
        "hidden": true,
        "id": "7FDeR9DDAPId"
      },
      "source": [
        "En ocasiones conocemos $P(y|x)$ pero queremos conocer $P(x|y)$. Si conocemos $P(x)$ podemos calcularlo usando la `regla de Bayes`.\n",
        "\n",
        "$$ P(x|y) = \\frac{P(x)P(y|x)}{P(y)} $$\n",
        "\n",
        "Si no conocemos $P(y)$ podemos calcularlo usando la regla de la suma, $P(y) = \\sum_x P(y|x)P(x)$."
      ]
    },
    {
      "cell_type": "markdown",
      "metadata": {
        "id": "Q9iHHMIXAPId"
      },
      "source": [
        "## Funciones comunes"
      ]
    },
    {
      "cell_type": "markdown",
      "metadata": {
        "id": "R6OwozuuAPIe"
      },
      "source": [
        "Para terminar, vamos a ver algunas funciones comunes que nos encontraremos de manera recurrente y algunas de sus propiedades."
      ]
    },
    {
      "cell_type": "markdown",
      "metadata": {
        "heading_collapsed": true,
        "id": "3Ekm5uXZAPIe"
      },
      "source": [
        "### Sigmoid"
      ]
    },
    {
      "cell_type": "markdown",
      "metadata": {
        "hidden": true,
        "id": "PY1Mv28AAPIe"
      },
      "source": [
        "Definimos la función `sigmoid` como \n",
        "\n",
        "$$ \\sigma(z) = \\frac{1}{1 + e^{-z}} $$\n",
        "\n",
        "Esta función opera en el rango $(0, 1)$ por lo que es muy útil para obtener probabilidades."
      ]
    },
    {
      "cell_type": "markdown",
      "metadata": {
        "ExecuteTime": {
          "end_time": "2020-06-16T08:53:46.352356Z",
          "start_time": "2020-06-16T08:53:46.314307Z"
        },
        "hidden": true,
        "id": "kJQO5A-yAPIe"
      },
      "source": [
        "![](https://qph.fs.quoracdn.net/main-qimg-6b67bea3311c3429bfb34b6b1737fe0c)"
      ]
    },
    {
      "cell_type": "code",
      "execution_count": 5,
      "metadata": {
        "ExecuteTime": {
          "end_time": "2020-06-16T09:00:47.894264Z",
          "start_time": "2020-06-16T09:00:47.888256Z"
        },
        "hidden": true,
        "id": "3QQh-MYHAPIe"
      },
      "outputs": [],
      "source": [
        "def sigmoid(x):\n",
        "  return 1 / (1 + np.exp(-x))"
      ]
    },
    {
      "cell_type": "code",
      "execution_count": 6,
      "metadata": {
        "ExecuteTime": {
          "end_time": "2020-06-16T09:01:19.240231Z",
          "start_time": "2020-06-16T09:01:19.221715Z"
        },
        "hidden": true,
        "id": "6G1C_7LzAPIe",
        "outputId": "dd1efc2d-ea2b-4a28-c2eb-a09d91a6a6fb",
        "colab": {
          "base_uri": "https://localhost:8080/"
        }
      },
      "outputs": [
        {
          "output_type": "execute_result",
          "data": {
            "text/plain": [
              "array([4.53978687e-05, 5.00000000e-01, 9.99954602e-01])"
            ]
          },
          "metadata": {},
          "execution_count": 6
        }
      ],
      "source": [
        "z = np.array([-10, 0, 10])\n",
        "sigmoid(z)"
      ]
    },
    {
      "cell_type": "markdown",
      "metadata": {
        "hidden": true,
        "id": "Ub6QgWrfAPIe"
      },
      "source": [
        "Los valore muy positivos o muy negativos saturan a $0$ y $1$, respectivamente."
      ]
    },
    {
      "cell_type": "markdown",
      "metadata": {
        "id": "cMC8aXasAPIe"
      },
      "source": [
        "### Softmax"
      ]
    },
    {
      "cell_type": "markdown",
      "metadata": {
        "id": "G19Yv63uAPIe"
      },
      "source": [
        "Definimos la función `softmax` como\n",
        "\n",
        "$$ \\sigma(z_i) = \\frac{e^{z_i}}{\\sum_j e^{z_j}} $$\n",
        "\n",
        "Esta función recibe como argumento un vector de valores reales y lo transforma en una distribución de probabilidad."
      ]
    },
    {
      "cell_type": "code",
      "execution_count": 7,
      "metadata": {
        "ExecuteTime": {
          "end_time": "2020-06-16T09:02:40.012243Z",
          "start_time": "2020-06-16T09:02:39.995224Z"
        },
        "id": "sc-SfCiAAPIe"
      },
      "outputs": [],
      "source": [
        "def softmax(z):\n",
        "    return np.exp(z)/sum(np.exp(z))"
      ]
    },
    {
      "cell_type": "code",
      "execution_count": 8,
      "metadata": {
        "ExecuteTime": {
          "end_time": "2020-06-16T09:05:58.245258Z",
          "start_time": "2020-06-16T09:05:58.129218Z"
        },
        "id": "lGFmqldlAPIe",
        "outputId": "615c4e7f-8da4-4e59-afd7-958d266b413c",
        "colab": {
          "base_uri": "https://localhost:8080/",
          "height": 265
        }
      },
      "outputs": [
        {
          "output_type": "display_data",
          "data": {
            "text/plain": [
              "<Figure size 432x288 with 1 Axes>"
            ],
            "image/png": "[encoded data removed]"
          },
          "metadata": {
            "needs_background": "light"
          }
        }
      ],
      "source": [
        "z = np.array([1, 3, 2])\n",
        "plt.bar(list(range(1,4)), z)\n",
        "plt.show()"
      ]
    },
    {
      "cell_type": "code",
      "execution_count": 9,
      "metadata": {
        "ExecuteTime": {
          "end_time": "2020-06-16T09:04:46.002147Z",
          "start_time": "2020-06-16T09:04:45.986119Z"
        },
        "id": "FH8LuYYSAPIe",
        "outputId": "ab2ea58a-1b58-449c-bc4c-599a78226ce6",
        "colab": {
          "base_uri": "https://localhost:8080/"
        }
      },
      "outputs": [
        {
          "output_type": "execute_result",
          "data": {
            "text/plain": [
              "array([0.09003057, 0.66524096, 0.24472847])"
            ]
          },
          "metadata": {},
          "execution_count": 9
        }
      ],
      "source": [
        "x = softmax(z)\n",
        "x"
      ]
    },
    {
      "cell_type": "code",
      "execution_count": 10,
      "metadata": {
        "ExecuteTime": {
          "end_time": "2020-06-16T09:06:06.140760Z",
          "start_time": "2020-06-16T09:06:06.039728Z"
        },
        "id": "W7qnpYuqAPIe",
        "outputId": "0510af2f-9ad4-472a-f336-578a144e8684",
        "colab": {
          "base_uri": "https://localhost:8080/",
          "height": 265
        }
      },
      "outputs": [
        {
          "output_type": "display_data",
          "data": {
            "text/plain": [
              "<Figure size 432x288 with 1 Axes>"
            ],
            "image/png": "[encoded data removed]"
          },
          "metadata": {
            "needs_background": "light"
          }
        }
      ],
      "source": [
        "plt.bar(list(range(1,4)), x)\n",
        "plt.show()"
      ]
    },
    {
      "cell_type": "code",
      "execution_count": 11,
      "metadata": {
        "ExecuteTime": {
          "end_time": "2020-06-16T09:07:40.270119Z",
          "start_time": "2020-06-16T09:07:40.260095Z"
        },
        "id": "WBy9ZaOTAPIe",
        "outputId": "73365ab1-72e5-4cf0-ab05-158489ea1cb7",
        "colab": {
          "base_uri": "https://localhost:8080/"
        }
      },
      "outputs": [
        {
          "output_type": "execute_result",
          "data": {
            "text/plain": [
              "(6, 1.0)"
            ]
          },
          "metadata": {},
          "execution_count": 11
        }
      ],
      "source": [
        "sum(z), sum(x)"
      ]
    },
    {
      "cell_type": "markdown",
      "metadata": {
        "id": "8LvaibvgAPIe"
      },
      "source": [
        "Utilizaremos esta función para generar distribuciones de probabilidad. Como puedes ver su efecto es el de hacer los valores grandes todavía más grandes y los pequeños todavía más pequeños (es una versión \"suave\" de la operación $max(z)$)."
      ]
    },
    {
      "cell_type": "markdown",
      "metadata": {
        "heading_collapsed": true,
        "id": "SxUrRW67APIe"
      },
      "source": [
        "## Resumen"
      ]
    },
    {
      "cell_type": "markdown",
      "metadata": {
        "hidden": true,
        "id": "LQKQvYkXAPIe"
      },
      "source": [
        "En este post hemos visto los conceptos básicos de la teoría de la `probabilidad` que tenemos que conocer para el desarrollo de algoritmos de `Inteligencia Artificial`, en particular de `Machine Learning` y `Deep Learning`. Al trabajar con estos algoritmos nos enfrentamos constantemente a la `incertidumbre`, que puede ser debida a varias causas. Nuestros modelos tienen que poder manejar esta incertidumbre para poder dar resultados. Hemos introducido el concepto de `variable aleatoria`, una variable que puede tomar diferentes valores definidos en una `distribución de probabilidad`. De entre las diferentes distribuciones de probabilidad que existen, la distribución `Gaussiana` es la más común. También hemos visto algunas operaciones que podemos llevar a cabo con estas distribuciones, siendo la `regla de Bayes` una de las más conocidas. Por último, hemos visto las funciones `sigmoid` y `softmax`, las cuales nos encontraremos a menudo en el desarrollo e implementación de nuestros algoritmos. "
      ]
    },
    {
      "cell_type": "markdown",
      "metadata": {
        "ExecuteTime": {
          "end_time": "2020-06-16T06:38:54.481239Z",
          "start_time": "2020-06-16T06:38:54.469239Z"
        },
        "id": "QuCVRKR1APIf"
      },
      "source": [
        "## Referencias\n",
        "    \n",
        "- *Probability Theory: The Logic of Science* (Jaynes, 2003)\n",
        "- *Deep Learning* (Goodfellow, Bengio y Courville, 2016)"
      ]
    }
  ],
  "metadata": {
    "kernelspec": {
      "display_name": "Python 3",
      "language": "python",
      "name": "python3"
    },
    "language_info": {
      "codemirror_mode": {
        "name": "ipython",
        "version": 3
      },
      "file_extension": ".py",
      "mimetype": "text/x-python",
      "name": "python",
      "nbconvert_exporter": "python",
      "pygments_lexer": "ipython3",
      "version": "3.7.6"
    },
    "toc": {
      "base_numbering": 1,
      "nav_menu": {},
      "number_sections": true,
      "sideBar": true,
      "skip_h1_title": false,
      "title_cell": "Table of Contents",
      "title_sidebar": "Contents",
      "toc_cell": false,
      "toc_position": {},
      "toc_section_display": true,
      "toc_window_display": false
    },
    "colab": {
      "name": "3. probabilidad.ipynb",
      "provenance": [],
      "include_colab_link": true
    }
  },
  "nbformat": 4,
  "nbformat_minor": 0
}